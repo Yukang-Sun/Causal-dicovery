{
 "cells": [
  {
   "cell_type": "code",
   "execution_count": 15,
   "metadata": {
    "collapsed": true
   },
   "outputs": [],
   "source": [
    "import pandas as pd\n",
    "\n",
    "# 加载数据集\n",
    "file_path = '../Data/dream3/DREAM3_GeneExpressionChallenge_ExpressionData_UPDATED.txt'\n",
    "df = pd.read_csv(file_path, sep='\\t')\n",
    "\n",
    "\n",
    "\n",
    "\n",
    "\n"
   ]
  },
  {
   "cell_type": "code",
   "execution_count": 16,
   "outputs": [
    {
     "data": {
      "text/plain": "               ProbeID geneName  \\\n0             10000_at      NaN   \n1             10001_at     MID2   \n2           10002_i_at      NaN   \n3           10003_f_at   RPS25B   \n4             10004_at      NaN   \n...                ...      ...   \n9330  AFFX-YER148w5_at    SPT15   \n9331  AFFX-YER148wM_at    SPT15   \n9332  AFFX-YFL039C3_at     ACT1   \n9333  AFFX-YFL039C5_at     ACT1   \n9334  AFFX-YFL039CM_at     ACT1   \n\n      absolute expression, parental strain t=0 (arbitrary units)  wt t=0  \\\n0                                                 0.194                0   \n1                                                 1.480                0   \n2                                                13.960                0   \n3                                               132.600                0   \n4                                                 0.148                0   \n...                                                 ...              ...   \n9330                                              5.474                0   \n9331                                             20.390                0   \n9332                                             65.320                0   \n9333                                             58.940                0   \n9334                                             46.750                0   \n\n       wt t=10   wt t=20   wt t=30   wt t=45   wt t=60   wt t=90  ...  \\\n0     0.080088 -0.021480 -0.207893  0.070967 -0.066261 -0.063503  ...   \n1    -0.466758 -0.376290 -0.619178 -0.199123 -0.107018 -0.142740  ...   \n2    -0.312665 -0.146655 -0.640621 -0.097611 -0.200379 -0.304511  ...   \n3    -0.182692 -0.105678 -0.447844 -0.119024 -0.167358 -0.244887  ...   \n4     0.164884  0.182786  0.186065  0.103147  0.129734  0.107803  ...   \n...        ...       ...       ...       ...       ...       ...  ...   \n9330  0.362158  0.375197  0.063409  0.224317  0.508403  0.494109  ...   \n9331  0.242977  0.134477 -1.233275  0.202572  0.341903  0.531156  ...   \n9332 -0.378512 -0.157044 -0.175045 -0.062122 -0.059355  0.023270  ...   \n9333 -0.556797 -0.227741 -0.211635 -0.136191 -0.209141 -0.334568  ...   \n9334 -0.397255 -0.163499 -0.153157 -0.092207 -0.160920 -0.140124  ...   \n\n      gcn4-deletion t=90 gcn4-deletion t=120 leu3-deletion t=0  \\\n0               0.081614           -0.079975         -0.185232   \n1               0.302226           -0.147958         -0.149259   \n2              -0.478195           -0.610700         -0.385155   \n3              -0.302173           -0.473008         -0.284514   \n4               0.112475            0.349235          0.036526   \n...                  ...                 ...               ...   \n9330            0.533242            0.473931          0.072483   \n9331            0.358454           -0.037031          0.054392   \n9332            0.090803           -0.285698          0.275786   \n9333           -0.250962           -0.695994         -0.157044   \n9334           -0.117695           -0.449957          0.069452   \n\n     leu3-deletion t=10 leu3-deletion t=20 leu3-deletion t=30  \\\n0             -0.205393          -0.071763          -0.060739   \n1             -0.382944           0.182786          -0.007196   \n2             -0.590722          -0.319618          -0.109695   \n3             -0.492622          -0.358396          -0.404903   \n4              0.013043          -0.005759           0.057392   \n...                 ...                ...                ...   \n9330           0.207561          -0.177599           0.112475   \n9331           0.112475          -0.302173           0.063409   \n9332           0.244685           0.586406           0.160040   \n9333           0.134477           0.060397          -0.249749   \n9334           0.226004           0.286304          -0.067639   \n\n     leu3-deletion t=45 leu3-deletion t=60 leu3-deletion t=90  \\\n0              0.000000           0.042457          -0.146655   \n1              0.020340          -0.052416           0.074001   \n2             -0.468844          -0.442545          -0.284514   \n3             -0.499782          -0.343692          -0.263034   \n4              0.052895           0.163268          -0.024320   \n...                 ...                ...                ...   \n9330           0.327348           0.184425           0.668868   \n9331           0.142417           0.043943           0.349235   \n9332           0.314733          -0.105678           0.309359   \n9333          -0.145351          -0.336855          -0.053806   \n9334           0.069452          -0.199123           0.120294   \n\n      leu3-deletion t=120  \n0               -0.246104  \n1                0.187707  \n2               -0.356144  \n3               -0.376290  \n4               -0.064883  \n...                   ...  \n9330            -0.247320  \n9331            -0.055196  \n9332             0.147202  \n9333            -0.502840  \n9334            -0.180148  \n\n[9335 rows x 35 columns]",
      "text/html": "<div>\n<style scoped>\n    .dataframe tbody tr th:only-of-type {\n        vertical-align: middle;\n    }\n\n    .dataframe tbody tr th {\n        vertical-align: top;\n    }\n\n    .dataframe thead th {\n        text-align: right;\n    }\n</style>\n<table border=\"1\" class=\"dataframe\">\n  <thead>\n    <tr style=\"text-align: right;\">\n      <th></th>\n      <th>ProbeID</th>\n      <th>geneName</th>\n      <th>absolute expression, parental strain t=0 (arbitrary units)</th>\n      <th>wt t=0</th>\n      <th>wt t=10</th>\n      <th>wt t=20</th>\n      <th>wt t=30</th>\n      <th>wt t=45</th>\n      <th>wt t=60</th>\n      <th>wt t=90</th>\n      <th>...</th>\n      <th>gcn4-deletion t=90</th>\n      <th>gcn4-deletion t=120</th>\n      <th>leu3-deletion t=0</th>\n      <th>leu3-deletion t=10</th>\n      <th>leu3-deletion t=20</th>\n      <th>leu3-deletion t=30</th>\n      <th>leu3-deletion t=45</th>\n      <th>leu3-deletion t=60</th>\n      <th>leu3-deletion t=90</th>\n      <th>leu3-deletion t=120</th>\n    </tr>\n  </thead>\n  <tbody>\n    <tr>\n      <th>0</th>\n      <td>10000_at</td>\n      <td>NaN</td>\n      <td>0.194</td>\n      <td>0</td>\n      <td>0.080088</td>\n      <td>-0.021480</td>\n      <td>-0.207893</td>\n      <td>0.070967</td>\n      <td>-0.066261</td>\n      <td>-0.063503</td>\n      <td>...</td>\n      <td>0.081614</td>\n      <td>-0.079975</td>\n      <td>-0.185232</td>\n      <td>-0.205393</td>\n      <td>-0.071763</td>\n      <td>-0.060739</td>\n      <td>0.000000</td>\n      <td>0.042457</td>\n      <td>-0.146655</td>\n      <td>-0.246104</td>\n    </tr>\n    <tr>\n      <th>1</th>\n      <td>10001_at</td>\n      <td>MID2</td>\n      <td>1.480</td>\n      <td>0</td>\n      <td>-0.466758</td>\n      <td>-0.376290</td>\n      <td>-0.619178</td>\n      <td>-0.199123</td>\n      <td>-0.107018</td>\n      <td>-0.142740</td>\n      <td>...</td>\n      <td>0.302226</td>\n      <td>-0.147958</td>\n      <td>-0.149259</td>\n      <td>-0.382944</td>\n      <td>0.182786</td>\n      <td>-0.007196</td>\n      <td>0.020340</td>\n      <td>-0.052416</td>\n      <td>0.074001</td>\n      <td>0.187707</td>\n    </tr>\n    <tr>\n      <th>2</th>\n      <td>10002_i_at</td>\n      <td>NaN</td>\n      <td>13.960</td>\n      <td>0</td>\n      <td>-0.312665</td>\n      <td>-0.146655</td>\n      <td>-0.640621</td>\n      <td>-0.097611</td>\n      <td>-0.200379</td>\n      <td>-0.304511</td>\n      <td>...</td>\n      <td>-0.478195</td>\n      <td>-0.610700</td>\n      <td>-0.385155</td>\n      <td>-0.590722</td>\n      <td>-0.319618</td>\n      <td>-0.109695</td>\n      <td>-0.468844</td>\n      <td>-0.442545</td>\n      <td>-0.284514</td>\n      <td>-0.356144</td>\n    </tr>\n    <tr>\n      <th>3</th>\n      <td>10003_f_at</td>\n      <td>RPS25B</td>\n      <td>132.600</td>\n      <td>0</td>\n      <td>-0.182692</td>\n      <td>-0.105678</td>\n      <td>-0.447844</td>\n      <td>-0.119024</td>\n      <td>-0.167358</td>\n      <td>-0.244887</td>\n      <td>...</td>\n      <td>-0.302173</td>\n      <td>-0.473008</td>\n      <td>-0.284514</td>\n      <td>-0.492622</td>\n      <td>-0.358396</td>\n      <td>-0.404903</td>\n      <td>-0.499782</td>\n      <td>-0.343692</td>\n      <td>-0.263034</td>\n      <td>-0.376290</td>\n    </tr>\n    <tr>\n      <th>4</th>\n      <td>10004_at</td>\n      <td>NaN</td>\n      <td>0.148</td>\n      <td>0</td>\n      <td>0.164884</td>\n      <td>0.182786</td>\n      <td>0.186065</td>\n      <td>0.103147</td>\n      <td>0.129734</td>\n      <td>0.107803</td>\n      <td>...</td>\n      <td>0.112475</td>\n      <td>0.349235</td>\n      <td>0.036526</td>\n      <td>0.013043</td>\n      <td>-0.005759</td>\n      <td>0.057392</td>\n      <td>0.052895</td>\n      <td>0.163268</td>\n      <td>-0.024320</td>\n      <td>-0.064883</td>\n    </tr>\n    <tr>\n      <th>...</th>\n      <td>...</td>\n      <td>...</td>\n      <td>...</td>\n      <td>...</td>\n      <td>...</td>\n      <td>...</td>\n      <td>...</td>\n      <td>...</td>\n      <td>...</td>\n      <td>...</td>\n      <td>...</td>\n      <td>...</td>\n      <td>...</td>\n      <td>...</td>\n      <td>...</td>\n      <td>...</td>\n      <td>...</td>\n      <td>...</td>\n      <td>...</td>\n      <td>...</td>\n      <td>...</td>\n    </tr>\n    <tr>\n      <th>9330</th>\n      <td>AFFX-YER148w5_at</td>\n      <td>SPT15</td>\n      <td>5.474</td>\n      <td>0</td>\n      <td>0.362158</td>\n      <td>0.375197</td>\n      <td>0.063409</td>\n      <td>0.224317</td>\n      <td>0.508403</td>\n      <td>0.494109</td>\n      <td>...</td>\n      <td>0.533242</td>\n      <td>0.473931</td>\n      <td>0.072483</td>\n      <td>0.207561</td>\n      <td>-0.177599</td>\n      <td>0.112475</td>\n      <td>0.327348</td>\n      <td>0.184425</td>\n      <td>0.668868</td>\n      <td>-0.247320</td>\n    </tr>\n    <tr>\n      <th>9331</th>\n      <td>AFFX-YER148wM_at</td>\n      <td>SPT15</td>\n      <td>20.390</td>\n      <td>0</td>\n      <td>0.242977</td>\n      <td>0.134477</td>\n      <td>-1.233275</td>\n      <td>0.202572</td>\n      <td>0.341903</td>\n      <td>0.531156</td>\n      <td>...</td>\n      <td>0.358454</td>\n      <td>-0.037031</td>\n      <td>0.054392</td>\n      <td>0.112475</td>\n      <td>-0.302173</td>\n      <td>0.063409</td>\n      <td>0.142417</td>\n      <td>0.043943</td>\n      <td>0.349235</td>\n      <td>-0.055196</td>\n    </tr>\n    <tr>\n      <th>9332</th>\n      <td>AFFX-YFL039C3_at</td>\n      <td>ACT1</td>\n      <td>65.320</td>\n      <td>0</td>\n      <td>-0.378512</td>\n      <td>-0.157044</td>\n      <td>-0.175045</td>\n      <td>-0.062122</td>\n      <td>-0.059355</td>\n      <td>0.023270</td>\n      <td>...</td>\n      <td>0.090803</td>\n      <td>-0.285698</td>\n      <td>0.275786</td>\n      <td>0.244685</td>\n      <td>0.586406</td>\n      <td>0.160040</td>\n      <td>0.314733</td>\n      <td>-0.105678</td>\n      <td>0.309359</td>\n      <td>0.147202</td>\n    </tr>\n    <tr>\n      <th>9333</th>\n      <td>AFFX-YFL039C5_at</td>\n      <td>ACT1</td>\n      <td>58.940</td>\n      <td>0</td>\n      <td>-0.556797</td>\n      <td>-0.227741</td>\n      <td>-0.211635</td>\n      <td>-0.136191</td>\n      <td>-0.209141</td>\n      <td>-0.334568</td>\n      <td>...</td>\n      <td>-0.250962</td>\n      <td>-0.695994</td>\n      <td>-0.157044</td>\n      <td>0.134477</td>\n      <td>0.060397</td>\n      <td>-0.249749</td>\n      <td>-0.145351</td>\n      <td>-0.336855</td>\n      <td>-0.053806</td>\n      <td>-0.502840</td>\n    </tr>\n    <tr>\n      <th>9334</th>\n      <td>AFFX-YFL039CM_at</td>\n      <td>ACT1</td>\n      <td>46.750</td>\n      <td>0</td>\n      <td>-0.397255</td>\n      <td>-0.163499</td>\n      <td>-0.153157</td>\n      <td>-0.092207</td>\n      <td>-0.160920</td>\n      <td>-0.140124</td>\n      <td>...</td>\n      <td>-0.117695</td>\n      <td>-0.449957</td>\n      <td>0.069452</td>\n      <td>0.226004</td>\n      <td>0.286304</td>\n      <td>-0.067639</td>\n      <td>0.069452</td>\n      <td>-0.199123</td>\n      <td>0.120294</td>\n      <td>-0.180148</td>\n    </tr>\n  </tbody>\n</table>\n<p>9335 rows × 35 columns</p>\n</div>"
     },
     "execution_count": 16,
     "metadata": {},
     "output_type": "execute_result"
    }
   ],
   "source": [
    "df"
   ],
   "metadata": {
    "collapsed": false
   }
  },
  {
   "cell_type": "code",
   "execution_count": 17,
   "outputs": [],
   "source": [
    "# 清洗数据\n",
    "# 1. 删除非必要的行（只保留有意义的表达数据）\n",
    "df_cleaned = df.dropna(how='all', subset=df.columns[2:])  # 移除完全空的行\n",
    "\n",
    "# 2. 转换数值列为浮点数（忽略可能的非数值条目如 \"PREDICT\"）\n",
    "for col in df.columns[2:]:\n",
    "    df_cleaned[col] = pd.to_numeric(df_cleaned[col], errors='coerce')"
   ],
   "metadata": {
    "collapsed": false
   }
  },
  {
   "cell_type": "code",
   "execution_count": 18,
   "outputs": [],
   "source": [
    "# 3. 重置索引\n",
    "df_cleaned = df_cleaned.reset_index(drop=True)\n",
    "\n",
    "# 4. 提取特征矩阵和目标变量（适合输入模型）\n",
    "#    假设 \"PREDICT\" 的列是目标，需要预测，其他列作为特征。\n",
    "feature_columns = [col for col in df_cleaned.columns if not col.startswith(\"gat1Δ\") or \"PREDICT\" not in col]\n",
    "target_columns = [col for col in df_cleaned.columns if \"gat1Δ\" in col]\n",
    "\n",
    "# 创建特征和目标数据框\n",
    "X = df_cleaned[feature_columns]  # 特征矩阵\n",
    "y = df_cleaned[target_columns]  # 目标变量"
   ],
   "metadata": {
    "collapsed": false
   }
  },
  {
   "cell_type": "code",
   "execution_count": 19,
   "outputs": [
    {
     "data": {
      "text/plain": "Empty DataFrame\nColumns: []\nIndex: [0, 1, 2, 3, 4, 5, 6, 7, 8, 9, 10, 11, 12, 13, 14, 15, 16, 17, 18, 19, 20, 21, 22, 23, 24, 25, 26, 27, 28, 29, 30, 31, 32, 33, 34, 35, 36, 37, 38, 39, 40, 41, 42, 43, 44, 45, 46, 47, 48, 49, 50, 51, 52, 53, 54, 55, 56, 57, 58, 59, 60, 61, 62, 63, 64, 65, 66, 67, 68, 69, 70, 71, 72, 73, 74, 75, 76, 77, 78, 79, 80, 81, 82, 83, 84, 85, 86, 87, 88, 89, 90, 91, 92, 93, 94, 95, 96, 97, 98, 99, ...]\n\n[9335 rows x 0 columns]",
      "text/html": "<div>\n<style scoped>\n    .dataframe tbody tr th:only-of-type {\n        vertical-align: middle;\n    }\n\n    .dataframe tbody tr th {\n        vertical-align: top;\n    }\n\n    .dataframe thead th {\n        text-align: right;\n    }\n</style>\n<table border=\"1\" class=\"dataframe\">\n  <thead>\n    <tr style=\"text-align: right;\">\n      <th></th>\n    </tr>\n  </thead>\n  <tbody>\n    <tr>\n      <th>0</th>\n    </tr>\n    <tr>\n      <th>1</th>\n    </tr>\n    <tr>\n      <th>2</th>\n    </tr>\n    <tr>\n      <th>3</th>\n    </tr>\n    <tr>\n      <th>4</th>\n    </tr>\n    <tr>\n      <th>...</th>\n    </tr>\n    <tr>\n      <th>9330</th>\n    </tr>\n    <tr>\n      <th>9331</th>\n    </tr>\n    <tr>\n      <th>9332</th>\n    </tr>\n    <tr>\n      <th>9333</th>\n    </tr>\n    <tr>\n      <th>9334</th>\n    </tr>\n  </tbody>\n</table>\n<p>9335 rows × 0 columns</p>\n</div>"
     },
     "execution_count": 19,
     "metadata": {},
     "output_type": "execute_result"
    }
   ],
   "source": [],
   "metadata": {
    "collapsed": false
   }
  },
  {
   "cell_type": "code",
   "execution_count": 20,
   "outputs": [
    {
     "data": {
      "text/plain": "               ProbeID geneName  \\\n0             10000_at      NaN   \n1             10001_at     MID2   \n2           10002_i_at      NaN   \n3           10003_f_at   RPS25B   \n4             10004_at      NaN   \n...                ...      ...   \n9330  AFFX-YER148w5_at    SPT15   \n9331  AFFX-YER148wM_at    SPT15   \n9332  AFFX-YFL039C3_at     ACT1   \n9333  AFFX-YFL039C5_at     ACT1   \n9334  AFFX-YFL039CM_at     ACT1   \n\n      absolute expression, parental strain t=0 (arbitrary units)  wt t=0  \\\n0                                                 0.194                0   \n1                                                 1.480                0   \n2                                                13.960                0   \n3                                               132.600                0   \n4                                                 0.148                0   \n...                                                 ...              ...   \n9330                                              5.474                0   \n9331                                             20.390                0   \n9332                                             65.320                0   \n9333                                             58.940                0   \n9334                                             46.750                0   \n\n       wt t=10   wt t=20   wt t=30   wt t=45   wt t=60   wt t=90  ...  \\\n0     0.080088 -0.021480 -0.207893  0.070967 -0.066261 -0.063503  ...   \n1    -0.466758 -0.376290 -0.619178 -0.199123 -0.107018 -0.142740  ...   \n2    -0.312665 -0.146655 -0.640621 -0.097611 -0.200379 -0.304511  ...   \n3    -0.182692 -0.105678 -0.447844 -0.119024 -0.167358 -0.244887  ...   \n4     0.164884  0.182786  0.186065  0.103147  0.129734  0.107803  ...   \n...        ...       ...       ...       ...       ...       ...  ...   \n9330  0.362158  0.375197  0.063409  0.224317  0.508403  0.494109  ...   \n9331  0.242977  0.134477 -1.233275  0.202572  0.341903  0.531156  ...   \n9332 -0.378512 -0.157044 -0.175045 -0.062122 -0.059355  0.023270  ...   \n9333 -0.556797 -0.227741 -0.211635 -0.136191 -0.209141 -0.334568  ...   \n9334 -0.397255 -0.163499 -0.153157 -0.092207 -0.160920 -0.140124  ...   \n\n      gcn4-deletion t=90  gcn4-deletion t=120  leu3-deletion t=0  \\\n0               0.081614            -0.079975          -0.185232   \n1               0.302226            -0.147958          -0.149259   \n2              -0.478195            -0.610700          -0.385155   \n3              -0.302173            -0.473008          -0.284514   \n4               0.112475             0.349235           0.036526   \n...                  ...                  ...                ...   \n9330            0.533242             0.473931           0.072483   \n9331            0.358454            -0.037031           0.054392   \n9332            0.090803            -0.285698           0.275786   \n9333           -0.250962            -0.695994          -0.157044   \n9334           -0.117695            -0.449957           0.069452   \n\n      leu3-deletion t=10  leu3-deletion t=20  leu3-deletion t=30  \\\n0              -0.205393           -0.071763           -0.060739   \n1              -0.382944            0.182786           -0.007196   \n2              -0.590722           -0.319618           -0.109695   \n3              -0.492622           -0.358396           -0.404903   \n4               0.013043           -0.005759            0.057392   \n...                  ...                 ...                 ...   \n9330            0.207561           -0.177599            0.112475   \n9331            0.112475           -0.302173            0.063409   \n9332            0.244685            0.586406            0.160040   \n9333            0.134477            0.060397           -0.249749   \n9334            0.226004            0.286304           -0.067639   \n\n      leu3-deletion t=45  leu3-deletion t=60  leu3-deletion t=90  \\\n0               0.000000            0.042457           -0.146655   \n1               0.020340           -0.052416            0.074001   \n2              -0.468844           -0.442545           -0.284514   \n3              -0.499782           -0.343692           -0.263034   \n4               0.052895            0.163268           -0.024320   \n...                  ...                 ...                 ...   \n9330            0.327348            0.184425            0.668868   \n9331            0.142417            0.043943            0.349235   \n9332            0.314733           -0.105678            0.309359   \n9333           -0.145351           -0.336855           -0.053806   \n9334            0.069452           -0.199123            0.120294   \n\n      leu3-deletion t=120  \n0               -0.246104  \n1                0.187707  \n2               -0.356144  \n3               -0.376290  \n4               -0.064883  \n...                   ...  \n9330            -0.247320  \n9331            -0.055196  \n9332             0.147202  \n9333            -0.502840  \n9334            -0.180148  \n\n[9335 rows x 35 columns]",
      "text/html": "<div>\n<style scoped>\n    .dataframe tbody tr th:only-of-type {\n        vertical-align: middle;\n    }\n\n    .dataframe tbody tr th {\n        vertical-align: top;\n    }\n\n    .dataframe thead th {\n        text-align: right;\n    }\n</style>\n<table border=\"1\" class=\"dataframe\">\n  <thead>\n    <tr style=\"text-align: right;\">\n      <th></th>\n      <th>ProbeID</th>\n      <th>geneName</th>\n      <th>absolute expression, parental strain t=0 (arbitrary units)</th>\n      <th>wt t=0</th>\n      <th>wt t=10</th>\n      <th>wt t=20</th>\n      <th>wt t=30</th>\n      <th>wt t=45</th>\n      <th>wt t=60</th>\n      <th>wt t=90</th>\n      <th>...</th>\n      <th>gcn4-deletion t=90</th>\n      <th>gcn4-deletion t=120</th>\n      <th>leu3-deletion t=0</th>\n      <th>leu3-deletion t=10</th>\n      <th>leu3-deletion t=20</th>\n      <th>leu3-deletion t=30</th>\n      <th>leu3-deletion t=45</th>\n      <th>leu3-deletion t=60</th>\n      <th>leu3-deletion t=90</th>\n      <th>leu3-deletion t=120</th>\n    </tr>\n  </thead>\n  <tbody>\n    <tr>\n      <th>0</th>\n      <td>10000_at</td>\n      <td>NaN</td>\n      <td>0.194</td>\n      <td>0</td>\n      <td>0.080088</td>\n      <td>-0.021480</td>\n      <td>-0.207893</td>\n      <td>0.070967</td>\n      <td>-0.066261</td>\n      <td>-0.063503</td>\n      <td>...</td>\n      <td>0.081614</td>\n      <td>-0.079975</td>\n      <td>-0.185232</td>\n      <td>-0.205393</td>\n      <td>-0.071763</td>\n      <td>-0.060739</td>\n      <td>0.000000</td>\n      <td>0.042457</td>\n      <td>-0.146655</td>\n      <td>-0.246104</td>\n    </tr>\n    <tr>\n      <th>1</th>\n      <td>10001_at</td>\n      <td>MID2</td>\n      <td>1.480</td>\n      <td>0</td>\n      <td>-0.466758</td>\n      <td>-0.376290</td>\n      <td>-0.619178</td>\n      <td>-0.199123</td>\n      <td>-0.107018</td>\n      <td>-0.142740</td>\n      <td>...</td>\n      <td>0.302226</td>\n      <td>-0.147958</td>\n      <td>-0.149259</td>\n      <td>-0.382944</td>\n      <td>0.182786</td>\n      <td>-0.007196</td>\n      <td>0.020340</td>\n      <td>-0.052416</td>\n      <td>0.074001</td>\n      <td>0.187707</td>\n    </tr>\n    <tr>\n      <th>2</th>\n      <td>10002_i_at</td>\n      <td>NaN</td>\n      <td>13.960</td>\n      <td>0</td>\n      <td>-0.312665</td>\n      <td>-0.146655</td>\n      <td>-0.640621</td>\n      <td>-0.097611</td>\n      <td>-0.200379</td>\n      <td>-0.304511</td>\n      <td>...</td>\n      <td>-0.478195</td>\n      <td>-0.610700</td>\n      <td>-0.385155</td>\n      <td>-0.590722</td>\n      <td>-0.319618</td>\n      <td>-0.109695</td>\n      <td>-0.468844</td>\n      <td>-0.442545</td>\n      <td>-0.284514</td>\n      <td>-0.356144</td>\n    </tr>\n    <tr>\n      <th>3</th>\n      <td>10003_f_at</td>\n      <td>RPS25B</td>\n      <td>132.600</td>\n      <td>0</td>\n      <td>-0.182692</td>\n      <td>-0.105678</td>\n      <td>-0.447844</td>\n      <td>-0.119024</td>\n      <td>-0.167358</td>\n      <td>-0.244887</td>\n      <td>...</td>\n      <td>-0.302173</td>\n      <td>-0.473008</td>\n      <td>-0.284514</td>\n      <td>-0.492622</td>\n      <td>-0.358396</td>\n      <td>-0.404903</td>\n      <td>-0.499782</td>\n      <td>-0.343692</td>\n      <td>-0.263034</td>\n      <td>-0.376290</td>\n    </tr>\n    <tr>\n      <th>4</th>\n      <td>10004_at</td>\n      <td>NaN</td>\n      <td>0.148</td>\n      <td>0</td>\n      <td>0.164884</td>\n      <td>0.182786</td>\n      <td>0.186065</td>\n      <td>0.103147</td>\n      <td>0.129734</td>\n      <td>0.107803</td>\n      <td>...</td>\n      <td>0.112475</td>\n      <td>0.349235</td>\n      <td>0.036526</td>\n      <td>0.013043</td>\n      <td>-0.005759</td>\n      <td>0.057392</td>\n      <td>0.052895</td>\n      <td>0.163268</td>\n      <td>-0.024320</td>\n      <td>-0.064883</td>\n    </tr>\n    <tr>\n      <th>...</th>\n      <td>...</td>\n      <td>...</td>\n      <td>...</td>\n      <td>...</td>\n      <td>...</td>\n      <td>...</td>\n      <td>...</td>\n      <td>...</td>\n      <td>...</td>\n      <td>...</td>\n      <td>...</td>\n      <td>...</td>\n      <td>...</td>\n      <td>...</td>\n      <td>...</td>\n      <td>...</td>\n      <td>...</td>\n      <td>...</td>\n      <td>...</td>\n      <td>...</td>\n      <td>...</td>\n    </tr>\n    <tr>\n      <th>9330</th>\n      <td>AFFX-YER148w5_at</td>\n      <td>SPT15</td>\n      <td>5.474</td>\n      <td>0</td>\n      <td>0.362158</td>\n      <td>0.375197</td>\n      <td>0.063409</td>\n      <td>0.224317</td>\n      <td>0.508403</td>\n      <td>0.494109</td>\n      <td>...</td>\n      <td>0.533242</td>\n      <td>0.473931</td>\n      <td>0.072483</td>\n      <td>0.207561</td>\n      <td>-0.177599</td>\n      <td>0.112475</td>\n      <td>0.327348</td>\n      <td>0.184425</td>\n      <td>0.668868</td>\n      <td>-0.247320</td>\n    </tr>\n    <tr>\n      <th>9331</th>\n      <td>AFFX-YER148wM_at</td>\n      <td>SPT15</td>\n      <td>20.390</td>\n      <td>0</td>\n      <td>0.242977</td>\n      <td>0.134477</td>\n      <td>-1.233275</td>\n      <td>0.202572</td>\n      <td>0.341903</td>\n      <td>0.531156</td>\n      <td>...</td>\n      <td>0.358454</td>\n      <td>-0.037031</td>\n      <td>0.054392</td>\n      <td>0.112475</td>\n      <td>-0.302173</td>\n      <td>0.063409</td>\n      <td>0.142417</td>\n      <td>0.043943</td>\n      <td>0.349235</td>\n      <td>-0.055196</td>\n    </tr>\n    <tr>\n      <th>9332</th>\n      <td>AFFX-YFL039C3_at</td>\n      <td>ACT1</td>\n      <td>65.320</td>\n      <td>0</td>\n      <td>-0.378512</td>\n      <td>-0.157044</td>\n      <td>-0.175045</td>\n      <td>-0.062122</td>\n      <td>-0.059355</td>\n      <td>0.023270</td>\n      <td>...</td>\n      <td>0.090803</td>\n      <td>-0.285698</td>\n      <td>0.275786</td>\n      <td>0.244685</td>\n      <td>0.586406</td>\n      <td>0.160040</td>\n      <td>0.314733</td>\n      <td>-0.105678</td>\n      <td>0.309359</td>\n      <td>0.147202</td>\n    </tr>\n    <tr>\n      <th>9333</th>\n      <td>AFFX-YFL039C5_at</td>\n      <td>ACT1</td>\n      <td>58.940</td>\n      <td>0</td>\n      <td>-0.556797</td>\n      <td>-0.227741</td>\n      <td>-0.211635</td>\n      <td>-0.136191</td>\n      <td>-0.209141</td>\n      <td>-0.334568</td>\n      <td>...</td>\n      <td>-0.250962</td>\n      <td>-0.695994</td>\n      <td>-0.157044</td>\n      <td>0.134477</td>\n      <td>0.060397</td>\n      <td>-0.249749</td>\n      <td>-0.145351</td>\n      <td>-0.336855</td>\n      <td>-0.053806</td>\n      <td>-0.502840</td>\n    </tr>\n    <tr>\n      <th>9334</th>\n      <td>AFFX-YFL039CM_at</td>\n      <td>ACT1</td>\n      <td>46.750</td>\n      <td>0</td>\n      <td>-0.397255</td>\n      <td>-0.163499</td>\n      <td>-0.153157</td>\n      <td>-0.092207</td>\n      <td>-0.160920</td>\n      <td>-0.140124</td>\n      <td>...</td>\n      <td>-0.117695</td>\n      <td>-0.449957</td>\n      <td>0.069452</td>\n      <td>0.226004</td>\n      <td>0.286304</td>\n      <td>-0.067639</td>\n      <td>0.069452</td>\n      <td>-0.199123</td>\n      <td>0.120294</td>\n      <td>-0.180148</td>\n    </tr>\n  </tbody>\n</table>\n<p>9335 rows × 35 columns</p>\n</div>"
     },
     "execution_count": 20,
     "metadata": {},
     "output_type": "execute_result"
    }
   ],
   "source": [
    "df_cleaned"
   ],
   "metadata": {
    "collapsed": false
   }
  },
  {
   "cell_type": "code",
   "execution_count": 21,
   "outputs": [
    {
     "ename": "KeyError",
     "evalue": "'ProbeID'",
     "output_type": "error",
     "traceback": [
      "\u001B[0;31m---------------------------------------------------------------------------\u001B[0m",
      "\u001B[0;31mKeyError\u001B[0m                                  Traceback (most recent call last)",
      "File \u001B[0;32m~/opt/anaconda3/lib/python3.9/site-packages/pandas/core/indexes/base.py:3629\u001B[0m, in \u001B[0;36mIndex.get_loc\u001B[0;34m(self, key, method, tolerance)\u001B[0m\n\u001B[1;32m   3628\u001B[0m \u001B[38;5;28;01mtry\u001B[39;00m:\n\u001B[0;32m-> 3629\u001B[0m     \u001B[38;5;28;01mreturn\u001B[39;00m \u001B[38;5;28;43mself\u001B[39;49m\u001B[38;5;241;43m.\u001B[39;49m\u001B[43m_engine\u001B[49m\u001B[38;5;241;43m.\u001B[39;49m\u001B[43mget_loc\u001B[49m\u001B[43m(\u001B[49m\u001B[43mcasted_key\u001B[49m\u001B[43m)\u001B[49m\n\u001B[1;32m   3630\u001B[0m \u001B[38;5;28;01mexcept\u001B[39;00m \u001B[38;5;167;01mKeyError\u001B[39;00m \u001B[38;5;28;01mas\u001B[39;00m err:\n",
      "File \u001B[0;32m~/opt/anaconda3/lib/python3.9/site-packages/pandas/_libs/index.pyx:136\u001B[0m, in \u001B[0;36mpandas._libs.index.IndexEngine.get_loc\u001B[0;34m()\u001B[0m\n",
      "File \u001B[0;32m~/opt/anaconda3/lib/python3.9/site-packages/pandas/_libs/index.pyx:163\u001B[0m, in \u001B[0;36mpandas._libs.index.IndexEngine.get_loc\u001B[0;34m()\u001B[0m\n",
      "File \u001B[0;32mpandas/_libs/hashtable_class_helper.pxi:5198\u001B[0m, in \u001B[0;36mpandas._libs.hashtable.PyObjectHashTable.get_item\u001B[0;34m()\u001B[0m\n",
      "File \u001B[0;32mpandas/_libs/hashtable_class_helper.pxi:5206\u001B[0m, in \u001B[0;36mpandas._libs.hashtable.PyObjectHashTable.get_item\u001B[0;34m()\u001B[0m\n",
      "\u001B[0;31mKeyError\u001B[0m: 'ProbeID'",
      "\nThe above exception was the direct cause of the following exception:\n",
      "\u001B[0;31mKeyError\u001B[0m                                  Traceback (most recent call last)",
      "Cell \u001B[0;32mIn[21], line 14\u001B[0m\n\u001B[1;32m     11\u001B[0m target_list \u001B[38;5;241m=\u001B[39m pd\u001B[38;5;241m.\u001B[39mread_csv(target_list_file, sep\u001B[38;5;241m=\u001B[39m\u001B[38;5;124m'\u001B[39m\u001B[38;5;130;01m\\t\u001B[39;00m\u001B[38;5;124m'\u001B[39m)\n\u001B[1;32m     13\u001B[0m \u001B[38;5;66;03m# 提取目标基因的 ProbeID 列表\u001B[39;00m\n\u001B[0;32m---> 14\u001B[0m target_probe_ids \u001B[38;5;241m=\u001B[39m \u001B[43mtarget_list\u001B[49m\u001B[43m[\u001B[49m\u001B[38;5;124;43m'\u001B[39;49m\u001B[38;5;124;43mProbeID\u001B[39;49m\u001B[38;5;124;43m'\u001B[39;49m\u001B[43m]\u001B[49m\u001B[38;5;241m.\u001B[39mtolist()\n\u001B[1;32m     16\u001B[0m \u001B[38;5;66;03m# 清洗表达数据\u001B[39;00m\n\u001B[1;32m     17\u001B[0m \u001B[38;5;66;03m# 1. 删除完全空的行\u001B[39;00m\n\u001B[1;32m     18\u001B[0m expression_data_cleaned \u001B[38;5;241m=\u001B[39m expression_data\u001B[38;5;241m.\u001B[39mdropna(how\u001B[38;5;241m=\u001B[39m\u001B[38;5;124m'\u001B[39m\u001B[38;5;124mall\u001B[39m\u001B[38;5;124m'\u001B[39m, subset\u001B[38;5;241m=\u001B[39mexpression_data\u001B[38;5;241m.\u001B[39mcolumns[\u001B[38;5;241m2\u001B[39m:])\n",
      "File \u001B[0;32m~/opt/anaconda3/lib/python3.9/site-packages/pandas/core/frame.py:3505\u001B[0m, in \u001B[0;36mDataFrame.__getitem__\u001B[0;34m(self, key)\u001B[0m\n\u001B[1;32m   3503\u001B[0m \u001B[38;5;28;01mif\u001B[39;00m \u001B[38;5;28mself\u001B[39m\u001B[38;5;241m.\u001B[39mcolumns\u001B[38;5;241m.\u001B[39mnlevels \u001B[38;5;241m>\u001B[39m \u001B[38;5;241m1\u001B[39m:\n\u001B[1;32m   3504\u001B[0m     \u001B[38;5;28;01mreturn\u001B[39;00m \u001B[38;5;28mself\u001B[39m\u001B[38;5;241m.\u001B[39m_getitem_multilevel(key)\n\u001B[0;32m-> 3505\u001B[0m indexer \u001B[38;5;241m=\u001B[39m \u001B[38;5;28;43mself\u001B[39;49m\u001B[38;5;241;43m.\u001B[39;49m\u001B[43mcolumns\u001B[49m\u001B[38;5;241;43m.\u001B[39;49m\u001B[43mget_loc\u001B[49m\u001B[43m(\u001B[49m\u001B[43mkey\u001B[49m\u001B[43m)\u001B[49m\n\u001B[1;32m   3506\u001B[0m \u001B[38;5;28;01mif\u001B[39;00m is_integer(indexer):\n\u001B[1;32m   3507\u001B[0m     indexer \u001B[38;5;241m=\u001B[39m [indexer]\n",
      "File \u001B[0;32m~/opt/anaconda3/lib/python3.9/site-packages/pandas/core/indexes/base.py:3631\u001B[0m, in \u001B[0;36mIndex.get_loc\u001B[0;34m(self, key, method, tolerance)\u001B[0m\n\u001B[1;32m   3629\u001B[0m     \u001B[38;5;28;01mreturn\u001B[39;00m \u001B[38;5;28mself\u001B[39m\u001B[38;5;241m.\u001B[39m_engine\u001B[38;5;241m.\u001B[39mget_loc(casted_key)\n\u001B[1;32m   3630\u001B[0m \u001B[38;5;28;01mexcept\u001B[39;00m \u001B[38;5;167;01mKeyError\u001B[39;00m \u001B[38;5;28;01mas\u001B[39;00m err:\n\u001B[0;32m-> 3631\u001B[0m     \u001B[38;5;28;01mraise\u001B[39;00m \u001B[38;5;167;01mKeyError\u001B[39;00m(key) \u001B[38;5;28;01mfrom\u001B[39;00m \u001B[38;5;21;01merr\u001B[39;00m\n\u001B[1;32m   3632\u001B[0m \u001B[38;5;28;01mexcept\u001B[39;00m \u001B[38;5;167;01mTypeError\u001B[39;00m:\n\u001B[1;32m   3633\u001B[0m     \u001B[38;5;66;03m# If we have a listlike key, _check_indexing_error will raise\u001B[39;00m\n\u001B[1;32m   3634\u001B[0m     \u001B[38;5;66;03m#  InvalidIndexError. Otherwise we fall through and re-raise\u001B[39;00m\n\u001B[1;32m   3635\u001B[0m     \u001B[38;5;66;03m#  the TypeError.\u001B[39;00m\n\u001B[1;32m   3636\u001B[0m     \u001B[38;5;28mself\u001B[39m\u001B[38;5;241m.\u001B[39m_check_indexing_error(key)\n",
      "\u001B[0;31mKeyError\u001B[0m: 'ProbeID'"
     ]
    }
   ],
   "source": [
    "import pandas as pd\n",
    "\n",
    "# 文件路径\n",
    "expression_data_file = '../Data/dream3/DREAM3_GeneExpressionChallenge_ExpressionData_UPDATED.txt'\n",
    "target_list_file = '../Data/dream3/DREAM3_GeneExpressionChallenge_TargetList.txt'\n",
    "\n",
    "# 加载基因表达数据\n",
    "expression_data = pd.read_csv(expression_data_file, sep='\\t')\n",
    "\n",
    "# 加载目标基因列表\n",
    "target_list = pd.read_csv(target_list_file, sep='\\t')\n",
    "\n",
    "# 提取目标基因的 ProbeID 列表\n",
    "target_probe_ids = target_list['ProbeID'].tolist()\n",
    "\n",
    "# 清洗表达数据\n",
    "# 1. 删除完全空的行\n",
    "expression_data_cleaned = expression_data.dropna(how='all', subset=expression_data.columns[2:])\n",
    "\n",
    "# 2. 转换数值列为浮点数，忽略 \"PREDICT\" 等非数值内容\n",
    "for col in expression_data_cleaned.columns[2:]:\n",
    "    expression_data_cleaned[col] = pd.to_numeric(expression_data_cleaned[col], errors='coerce')\n",
    "\n",
    "# 3. 重置索引\n",
    "expression_data_cleaned = expression_data_cleaned.reset_index(drop=True)\n",
    "\n",
    "# 特征和目标数据提取\n",
    "# 1. 提取目标基因数据\n",
    "target_gene_data = expression_data_cleaned[expression_data_cleaned['ProbeID'].isin(target_probe_ids)]\n",
    "\n",
    "# 2. 提取非目标基因数据\n",
    "non_target_gene_data = expression_data_cleaned[~expression_data_cleaned['ProbeID'].isin(target_probe_ids)]\n",
    "\n",
    "# 3. 特征矩阵：非目标基因的所有条件\n",
    "X = non_target_gene_data\n",
    "\n",
    "# 4. 目标变量：目标基因的 \"gat1Δ\" 条件，需处理 \"PREDICT\" 部分\n",
    "y = target_gene_data.filter(like='gat1Δ')\n",
    "\n",
    "# 检查结果\n",
    "print(\"Feature Matrix (X):\")\n",
    "print(X.head())\n",
    "print(\"\\nTarget Data (y):\")\n",
    "print(y.head())\n"
   ],
   "metadata": {
    "collapsed": false
   }
  },
  {
   "cell_type": "code",
   "execution_count": 24,
   "outputs": [
    {
     "name": "stdout",
     "output_type": "stream",
     "text": [
      "训练集大小: 6499\n",
      "测试集大小: 2786\n"
     ]
    }
   ],
   "source": [
    "import pandas as pd\n",
    "from sklearn.model_selection import train_test_split\n",
    "\n",
    "# 加载数据\n",
    "expression_data_path = \"../Data/dream3/DREAM3_GeneExpressionChallenge_ExpressionData_UPDATED.txt\"\n",
    "target_list_path = \"../Data/dream3/DREAM3_GeneExpressionChallenge_TargetList.txt\"\n",
    "\n",
    "# 读取表达数据\n",
    "expression_df = pd.read_csv(expression_data_path, sep=\"\\t\")\n",
    "# 读取目标基因列表\n",
    "target_list_df = pd.read_csv(target_list_path, sep=\"\\t\")\n",
    "\n",
    "# 提取目标基因的 probeID\n",
    "target_probe_ids = target_list_df[\"probeID\"].dropna().tolist()\n",
    "\n",
    "# 筛选非目标基因数据\n",
    "non_target_data = expression_df[~expression_df[\"ProbeID\"].isin(target_probe_ids)]\n",
    "\n",
    "# 分离特征 (wt, gcn4, leu3) 和目标 (gat1)\n",
    "# 特征列名包含 wt, gcn4, leu3，目标列名包含 gat1\n",
    "feature_columns = [col for col in non_target_data.columns if any(cond in col for cond in [\"wt\", \"gcn4\", \"leu3\"])]\n",
    "target_columns = [col for col in non_target_data.columns if \"gat1\" in col]\n",
    "\n",
    "X = non_target_data[feature_columns].dropna()\n",
    "Y = non_target_data[target_columns].dropna()\n",
    "\n",
    "# 确保特征和目标对齐\n",
    "X = X.loc[Y.index]\n",
    "Y = Y.loc[X.index]\n",
    "\n",
    "# 拆分为训练集和测试集 (70% 训练，30% 测试)\n",
    "X_train, X_test, Y_train, Y_test = train_test_split(X, Y, test_size=0.3, random_state=42)\n"
   ],
   "metadata": {
    "collapsed": false
   }
  },
  {
   "cell_type": "code",
   "execution_count": 35,
   "outputs": [
    {
     "data": {
      "text/plain": "               ProbeID geneName  \\\n0             10000_at      NaN   \n1             10001_at     MID2   \n2           10002_i_at      NaN   \n3           10003_f_at   RPS25B   \n4             10004_at      NaN   \n...                ...      ...   \n9330  AFFX-YER148w5_at    SPT15   \n9331  AFFX-YER148wM_at    SPT15   \n9332  AFFX-YFL039C3_at     ACT1   \n9333  AFFX-YFL039C5_at     ACT1   \n9334  AFFX-YFL039CM_at     ACT1   \n\n      absolute expression, parental strain t=0 (arbitrary units)  wt t=0  \\\n0                                                 0.194                0   \n1                                                 1.480                0   \n2                                                13.960                0   \n3                                               132.600                0   \n4                                                 0.148                0   \n...                                                 ...              ...   \n9330                                              5.474                0   \n9331                                             20.390                0   \n9332                                             65.320                0   \n9333                                             58.940                0   \n9334                                             46.750                0   \n\n       wt t=10   wt t=20   wt t=30   wt t=45   wt t=60   wt t=90  ...  \\\n0     0.080088 -0.021480 -0.207893  0.070967 -0.066261 -0.063503  ...   \n1    -0.466758 -0.376290 -0.619178 -0.199123 -0.107018 -0.142740  ...   \n2    -0.312665 -0.146655 -0.640621 -0.097611 -0.200379 -0.304511  ...   \n3    -0.182692 -0.105678 -0.447844 -0.119024 -0.167358 -0.244887  ...   \n4     0.164884  0.182786  0.186065  0.103147  0.129734  0.107803  ...   \n...        ...       ...       ...       ...       ...       ...  ...   \n9330  0.362158  0.375197  0.063409  0.224317  0.508403  0.494109  ...   \n9331  0.242977  0.134477 -1.233275  0.202572  0.341903  0.531156  ...   \n9332 -0.378512 -0.157044 -0.175045 -0.062122 -0.059355  0.023270  ...   \n9333 -0.556797 -0.227741 -0.211635 -0.136191 -0.209141 -0.334568  ...   \n9334 -0.397255 -0.163499 -0.153157 -0.092207 -0.160920 -0.140124  ...   \n\n      gcn4-deletion t=90 gcn4-deletion t=120 leu3-deletion t=0  \\\n0               0.081614           -0.079975         -0.185232   \n1               0.302226           -0.147958         -0.149259   \n2              -0.478195           -0.610700         -0.385155   \n3              -0.302173           -0.473008         -0.284514   \n4               0.112475            0.349235          0.036526   \n...                  ...                 ...               ...   \n9330            0.533242            0.473931          0.072483   \n9331            0.358454           -0.037031          0.054392   \n9332            0.090803           -0.285698          0.275786   \n9333           -0.250962           -0.695994         -0.157044   \n9334           -0.117695           -0.449957          0.069452   \n\n     leu3-deletion t=10 leu3-deletion t=20 leu3-deletion t=30  \\\n0             -0.205393          -0.071763          -0.060739   \n1             -0.382944           0.182786          -0.007196   \n2             -0.590722          -0.319618          -0.109695   \n3             -0.492622          -0.358396          -0.404903   \n4              0.013043          -0.005759           0.057392   \n...                 ...                ...                ...   \n9330           0.207561          -0.177599           0.112475   \n9331           0.112475          -0.302173           0.063409   \n9332           0.244685           0.586406           0.160040   \n9333           0.134477           0.060397          -0.249749   \n9334           0.226004           0.286304          -0.067639   \n\n     leu3-deletion t=45 leu3-deletion t=60 leu3-deletion t=90  \\\n0              0.000000           0.042457          -0.146655   \n1              0.020340          -0.052416           0.074001   \n2             -0.468844          -0.442545          -0.284514   \n3             -0.499782          -0.343692          -0.263034   \n4              0.052895           0.163268          -0.024320   \n...                 ...                ...                ...   \n9330           0.327348           0.184425           0.668868   \n9331           0.142417           0.043943           0.349235   \n9332           0.314733          -0.105678           0.309359   \n9333          -0.145351          -0.336855          -0.053806   \n9334           0.069452          -0.199123           0.120294   \n\n      leu3-deletion t=120  \n0               -0.246104  \n1                0.187707  \n2               -0.356144  \n3               -0.376290  \n4               -0.064883  \n...                   ...  \n9330            -0.247320  \n9331            -0.055196  \n9332             0.147202  \n9333            -0.502840  \n9334            -0.180148  \n\n[9335 rows x 35 columns]",
      "text/html": "<div>\n<style scoped>\n    .dataframe tbody tr th:only-of-type {\n        vertical-align: middle;\n    }\n\n    .dataframe tbody tr th {\n        vertical-align: top;\n    }\n\n    .dataframe thead th {\n        text-align: right;\n    }\n</style>\n<table border=\"1\" class=\"dataframe\">\n  <thead>\n    <tr style=\"text-align: right;\">\n      <th></th>\n      <th>ProbeID</th>\n      <th>geneName</th>\n      <th>absolute expression, parental strain t=0 (arbitrary units)</th>\n      <th>wt t=0</th>\n      <th>wt t=10</th>\n      <th>wt t=20</th>\n      <th>wt t=30</th>\n      <th>wt t=45</th>\n      <th>wt t=60</th>\n      <th>wt t=90</th>\n      <th>...</th>\n      <th>gcn4-deletion t=90</th>\n      <th>gcn4-deletion t=120</th>\n      <th>leu3-deletion t=0</th>\n      <th>leu3-deletion t=10</th>\n      <th>leu3-deletion t=20</th>\n      <th>leu3-deletion t=30</th>\n      <th>leu3-deletion t=45</th>\n      <th>leu3-deletion t=60</th>\n      <th>leu3-deletion t=90</th>\n      <th>leu3-deletion t=120</th>\n    </tr>\n  </thead>\n  <tbody>\n    <tr>\n      <th>0</th>\n      <td>10000_at</td>\n      <td>NaN</td>\n      <td>0.194</td>\n      <td>0</td>\n      <td>0.080088</td>\n      <td>-0.021480</td>\n      <td>-0.207893</td>\n      <td>0.070967</td>\n      <td>-0.066261</td>\n      <td>-0.063503</td>\n      <td>...</td>\n      <td>0.081614</td>\n      <td>-0.079975</td>\n      <td>-0.185232</td>\n      <td>-0.205393</td>\n      <td>-0.071763</td>\n      <td>-0.060739</td>\n      <td>0.000000</td>\n      <td>0.042457</td>\n      <td>-0.146655</td>\n      <td>-0.246104</td>\n    </tr>\n    <tr>\n      <th>1</th>\n      <td>10001_at</td>\n      <td>MID2</td>\n      <td>1.480</td>\n      <td>0</td>\n      <td>-0.466758</td>\n      <td>-0.376290</td>\n      <td>-0.619178</td>\n      <td>-0.199123</td>\n      <td>-0.107018</td>\n      <td>-0.142740</td>\n      <td>...</td>\n      <td>0.302226</td>\n      <td>-0.147958</td>\n      <td>-0.149259</td>\n      <td>-0.382944</td>\n      <td>0.182786</td>\n      <td>-0.007196</td>\n      <td>0.020340</td>\n      <td>-0.052416</td>\n      <td>0.074001</td>\n      <td>0.187707</td>\n    </tr>\n    <tr>\n      <th>2</th>\n      <td>10002_i_at</td>\n      <td>NaN</td>\n      <td>13.960</td>\n      <td>0</td>\n      <td>-0.312665</td>\n      <td>-0.146655</td>\n      <td>-0.640621</td>\n      <td>-0.097611</td>\n      <td>-0.200379</td>\n      <td>-0.304511</td>\n      <td>...</td>\n      <td>-0.478195</td>\n      <td>-0.610700</td>\n      <td>-0.385155</td>\n      <td>-0.590722</td>\n      <td>-0.319618</td>\n      <td>-0.109695</td>\n      <td>-0.468844</td>\n      <td>-0.442545</td>\n      <td>-0.284514</td>\n      <td>-0.356144</td>\n    </tr>\n    <tr>\n      <th>3</th>\n      <td>10003_f_at</td>\n      <td>RPS25B</td>\n      <td>132.600</td>\n      <td>0</td>\n      <td>-0.182692</td>\n      <td>-0.105678</td>\n      <td>-0.447844</td>\n      <td>-0.119024</td>\n      <td>-0.167358</td>\n      <td>-0.244887</td>\n      <td>...</td>\n      <td>-0.302173</td>\n      <td>-0.473008</td>\n      <td>-0.284514</td>\n      <td>-0.492622</td>\n      <td>-0.358396</td>\n      <td>-0.404903</td>\n      <td>-0.499782</td>\n      <td>-0.343692</td>\n      <td>-0.263034</td>\n      <td>-0.376290</td>\n    </tr>\n    <tr>\n      <th>4</th>\n      <td>10004_at</td>\n      <td>NaN</td>\n      <td>0.148</td>\n      <td>0</td>\n      <td>0.164884</td>\n      <td>0.182786</td>\n      <td>0.186065</td>\n      <td>0.103147</td>\n      <td>0.129734</td>\n      <td>0.107803</td>\n      <td>...</td>\n      <td>0.112475</td>\n      <td>0.349235</td>\n      <td>0.036526</td>\n      <td>0.013043</td>\n      <td>-0.005759</td>\n      <td>0.057392</td>\n      <td>0.052895</td>\n      <td>0.163268</td>\n      <td>-0.024320</td>\n      <td>-0.064883</td>\n    </tr>\n    <tr>\n      <th>...</th>\n      <td>...</td>\n      <td>...</td>\n      <td>...</td>\n      <td>...</td>\n      <td>...</td>\n      <td>...</td>\n      <td>...</td>\n      <td>...</td>\n      <td>...</td>\n      <td>...</td>\n      <td>...</td>\n      <td>...</td>\n      <td>...</td>\n      <td>...</td>\n      <td>...</td>\n      <td>...</td>\n      <td>...</td>\n      <td>...</td>\n      <td>...</td>\n      <td>...</td>\n      <td>...</td>\n    </tr>\n    <tr>\n      <th>9330</th>\n      <td>AFFX-YER148w5_at</td>\n      <td>SPT15</td>\n      <td>5.474</td>\n      <td>0</td>\n      <td>0.362158</td>\n      <td>0.375197</td>\n      <td>0.063409</td>\n      <td>0.224317</td>\n      <td>0.508403</td>\n      <td>0.494109</td>\n      <td>...</td>\n      <td>0.533242</td>\n      <td>0.473931</td>\n      <td>0.072483</td>\n      <td>0.207561</td>\n      <td>-0.177599</td>\n      <td>0.112475</td>\n      <td>0.327348</td>\n      <td>0.184425</td>\n      <td>0.668868</td>\n      <td>-0.247320</td>\n    </tr>\n    <tr>\n      <th>9331</th>\n      <td>AFFX-YER148wM_at</td>\n      <td>SPT15</td>\n      <td>20.390</td>\n      <td>0</td>\n      <td>0.242977</td>\n      <td>0.134477</td>\n      <td>-1.233275</td>\n      <td>0.202572</td>\n      <td>0.341903</td>\n      <td>0.531156</td>\n      <td>...</td>\n      <td>0.358454</td>\n      <td>-0.037031</td>\n      <td>0.054392</td>\n      <td>0.112475</td>\n      <td>-0.302173</td>\n      <td>0.063409</td>\n      <td>0.142417</td>\n      <td>0.043943</td>\n      <td>0.349235</td>\n      <td>-0.055196</td>\n    </tr>\n    <tr>\n      <th>9332</th>\n      <td>AFFX-YFL039C3_at</td>\n      <td>ACT1</td>\n      <td>65.320</td>\n      <td>0</td>\n      <td>-0.378512</td>\n      <td>-0.157044</td>\n      <td>-0.175045</td>\n      <td>-0.062122</td>\n      <td>-0.059355</td>\n      <td>0.023270</td>\n      <td>...</td>\n      <td>0.090803</td>\n      <td>-0.285698</td>\n      <td>0.275786</td>\n      <td>0.244685</td>\n      <td>0.586406</td>\n      <td>0.160040</td>\n      <td>0.314733</td>\n      <td>-0.105678</td>\n      <td>0.309359</td>\n      <td>0.147202</td>\n    </tr>\n    <tr>\n      <th>9333</th>\n      <td>AFFX-YFL039C5_at</td>\n      <td>ACT1</td>\n      <td>58.940</td>\n      <td>0</td>\n      <td>-0.556797</td>\n      <td>-0.227741</td>\n      <td>-0.211635</td>\n      <td>-0.136191</td>\n      <td>-0.209141</td>\n      <td>-0.334568</td>\n      <td>...</td>\n      <td>-0.250962</td>\n      <td>-0.695994</td>\n      <td>-0.157044</td>\n      <td>0.134477</td>\n      <td>0.060397</td>\n      <td>-0.249749</td>\n      <td>-0.145351</td>\n      <td>-0.336855</td>\n      <td>-0.053806</td>\n      <td>-0.502840</td>\n    </tr>\n    <tr>\n      <th>9334</th>\n      <td>AFFX-YFL039CM_at</td>\n      <td>ACT1</td>\n      <td>46.750</td>\n      <td>0</td>\n      <td>-0.397255</td>\n      <td>-0.163499</td>\n      <td>-0.153157</td>\n      <td>-0.092207</td>\n      <td>-0.160920</td>\n      <td>-0.140124</td>\n      <td>...</td>\n      <td>-0.117695</td>\n      <td>-0.449957</td>\n      <td>0.069452</td>\n      <td>0.226004</td>\n      <td>0.286304</td>\n      <td>-0.067639</td>\n      <td>0.069452</td>\n      <td>-0.199123</td>\n      <td>0.120294</td>\n      <td>-0.180148</td>\n    </tr>\n  </tbody>\n</table>\n<p>9335 rows × 35 columns</p>\n</div>"
     },
     "execution_count": 35,
     "metadata": {},
     "output_type": "execute_result"
    }
   ],
   "source": [
    "expression_df"
   ],
   "metadata": {
    "collapsed": false
   }
  },
  {
   "cell_type": "code",
   "execution_count": 26,
   "outputs": [
    {
     "data": {
      "text/plain": "     gat1-deletion t=0 gat1-deletion t=10 gat1-deletion t=20  \\\n6783        0.15682011       -0.370722275       -0.041242982   \n4511      -0.032806145       -0.458382004       -0.487486349   \n203       -0.140124224        0.161653263        0.349235441   \n6812      -0.185232254       -0.280956314       -0.199122642   \n4878       0.293358943       -0.535057595       -0.320773477   \n...                ...                ...                ...   \n5770      -0.209141398       -0.319617934       -0.191562651   \n5224       0.098505545        0.046921047       -0.115033243   \n5425       0.293358943       -0.172487516        -0.10701825   \n871       -0.097610797        0.131313235       -0.252173413   \n7313      -0.250961574       -0.343692069       -0.884402553   \n\n     gat1-deletion t=30 gat1-deletion t=45 gat1-deletion t=60  \\\n6783       -0.008630305        0.087733372       -0.005759269   \n4511       -0.511973982       -0.591679417        -0.71633248   \n203         0.639354798        0.734563104        0.311148256   \n6812        0.100051014       -0.046840254        0.061902439   \n4878       -0.074505436       -0.371837617        0.227692025   \n...                 ...                ...                ...   \n5770        0.106249498        0.204233052        0.134477041   \n5224        0.103146927       -0.010063683        0.220950447   \n5425        0.027674958       -0.236339539       -0.422233001   \n871         0.020340448       -0.401630467        0.267079618   \n7313        -0.83673208       -0.407080775       -0.620117165   \n\n     gat1-deletion t=90 gat1-deletion t=120  \n6783       -0.011495639        -0.123003954  \n4511       -0.412510571         -0.46571332  \n203        -0.100304906        -0.002882509  \n6812        0.140825544         0.226003675  \n4878        0.334607229          0.02180437  \n...                 ...                 ...  \n5770        0.364013496          0.18606493  \n5224       -0.021479727        -0.060739158  \n5425       -0.303342394        -0.227741076  \n871         0.013043037         0.226003675  \n7313       -0.647084213        -0.512985335  \n\n[6499 rows x 8 columns]",
      "text/html": "<div>\n<style scoped>\n    .dataframe tbody tr th:only-of-type {\n        vertical-align: middle;\n    }\n\n    .dataframe tbody tr th {\n        vertical-align: top;\n    }\n\n    .dataframe thead th {\n        text-align: right;\n    }\n</style>\n<table border=\"1\" class=\"dataframe\">\n  <thead>\n    <tr style=\"text-align: right;\">\n      <th></th>\n      <th>gat1-deletion t=0</th>\n      <th>gat1-deletion t=10</th>\n      <th>gat1-deletion t=20</th>\n      <th>gat1-deletion t=30</th>\n      <th>gat1-deletion t=45</th>\n      <th>gat1-deletion t=60</th>\n      <th>gat1-deletion t=90</th>\n      <th>gat1-deletion t=120</th>\n    </tr>\n  </thead>\n  <tbody>\n    <tr>\n      <th>6783</th>\n      <td>0.15682011</td>\n      <td>-0.370722275</td>\n      <td>-0.041242982</td>\n      <td>-0.008630305</td>\n      <td>0.087733372</td>\n      <td>-0.005759269</td>\n      <td>-0.011495639</td>\n      <td>-0.123003954</td>\n    </tr>\n    <tr>\n      <th>4511</th>\n      <td>-0.032806145</td>\n      <td>-0.458382004</td>\n      <td>-0.487486349</td>\n      <td>-0.511973982</td>\n      <td>-0.591679417</td>\n      <td>-0.71633248</td>\n      <td>-0.412510571</td>\n      <td>-0.46571332</td>\n    </tr>\n    <tr>\n      <th>203</th>\n      <td>-0.140124224</td>\n      <td>0.161653263</td>\n      <td>0.349235441</td>\n      <td>0.639354798</td>\n      <td>0.734563104</td>\n      <td>0.311148256</td>\n      <td>-0.100304906</td>\n      <td>-0.002882509</td>\n    </tr>\n    <tr>\n      <th>6812</th>\n      <td>-0.185232254</td>\n      <td>-0.280956314</td>\n      <td>-0.199122642</td>\n      <td>0.100051014</td>\n      <td>-0.046840254</td>\n      <td>0.061902439</td>\n      <td>0.140825544</td>\n      <td>0.226003675</td>\n    </tr>\n    <tr>\n      <th>4878</th>\n      <td>0.293358943</td>\n      <td>-0.535057595</td>\n      <td>-0.320773477</td>\n      <td>-0.074505436</td>\n      <td>-0.371837617</td>\n      <td>0.227692025</td>\n      <td>0.334607229</td>\n      <td>0.02180437</td>\n    </tr>\n    <tr>\n      <th>...</th>\n      <td>...</td>\n      <td>...</td>\n      <td>...</td>\n      <td>...</td>\n      <td>...</td>\n      <td>...</td>\n      <td>...</td>\n      <td>...</td>\n    </tr>\n    <tr>\n      <th>5770</th>\n      <td>-0.209141398</td>\n      <td>-0.319617934</td>\n      <td>-0.191562651</td>\n      <td>0.106249498</td>\n      <td>0.204233052</td>\n      <td>0.134477041</td>\n      <td>0.364013496</td>\n      <td>0.18606493</td>\n    </tr>\n    <tr>\n      <th>5224</th>\n      <td>0.098505545</td>\n      <td>0.046921047</td>\n      <td>-0.115033243</td>\n      <td>0.103146927</td>\n      <td>-0.010063683</td>\n      <td>0.220950447</td>\n      <td>-0.021479727</td>\n      <td>-0.060739158</td>\n    </tr>\n    <tr>\n      <th>5425</th>\n      <td>0.293358943</td>\n      <td>-0.172487516</td>\n      <td>-0.10701825</td>\n      <td>0.027674958</td>\n      <td>-0.236339539</td>\n      <td>-0.422233001</td>\n      <td>-0.303342394</td>\n      <td>-0.227741076</td>\n    </tr>\n    <tr>\n      <th>871</th>\n      <td>-0.097610797</td>\n      <td>0.131313235</td>\n      <td>-0.252173413</td>\n      <td>0.020340448</td>\n      <td>-0.401630467</td>\n      <td>0.267079618</td>\n      <td>0.013043037</td>\n      <td>0.226003675</td>\n    </tr>\n    <tr>\n      <th>7313</th>\n      <td>-0.250961574</td>\n      <td>-0.343692069</td>\n      <td>-0.884402553</td>\n      <td>-0.83673208</td>\n      <td>-0.407080775</td>\n      <td>-0.620117165</td>\n      <td>-0.647084213</td>\n      <td>-0.512985335</td>\n    </tr>\n  </tbody>\n</table>\n<p>6499 rows × 8 columns</p>\n</div>"
     },
     "execution_count": 26,
     "metadata": {},
     "output_type": "execute_result"
    }
   ],
   "source": [
    "Y_train"
   ],
   "metadata": {
    "collapsed": false
   }
  },
  {
   "cell_type": "code",
   "execution_count": 27,
   "outputs": [
    {
     "name": "stderr",
     "output_type": "stream",
     "text": [
      "/var/folders/s7/54k45_1544j5xllpj50wg60h0000gn/T/ipykernel_38215/2234431026.py:18: FutureWarning: DataFrame.mean and DataFrame.median with numeric_only=None will include datetime64 and datetime64tz columns in a future version.\n",
      "  data.fillna(data.mean(), inplace=True)\n"
     ]
    },
    {
     "name": "stdout",
     "output_type": "stream",
     "text": [
      "X_train shape: (1660207, 6)\n",
      "X_test shape: (415052, 6)\n",
      "Y_train shape: (1660207,)\n",
      "Y_test shape: (415052,)\n"
     ]
    }
   ],
   "source": [
    "import pandas as pd\n",
    "import numpy as np\n",
    "from sklearn.model_selection import train_test_split\n",
    "from sklearn.preprocessing import StandardScaler\n",
    "\n",
    "# 加载数据\n",
    "file_path = \"../Data/household_power_consumption.txt\"\n",
    "data = pd.read_csv(file_path, sep=\";\", na_values=[\"?\", \"NA\"])\n",
    "\n",
    "# 1. 清理数据\n",
    "# 转换日期和时间列为时间戳\n",
    "data['Datetime'] = pd.to_datetime(data['Date'] + ' ' + data['Time'], format='%d/%m/%Y %H:%M:%S')\n",
    "\n",
    "# 删除原始 Date 和 Time 列\n",
    "data.drop(['Date', 'Time'], axis=1, inplace=True)\n",
    "\n",
    "# 填补缺失值（可以选择填充或删除）\n",
    "data.fillna(data.mean(), inplace=True)\n",
    "\n",
    "# 2. 选择 X 和 Y\n",
    "# 定义 X 和 Y 的列\n",
    "feature_columns = [\n",
    "    \"Global_reactive_power\",\n",
    "    \"Voltage\",\n",
    "    \"Global_intensity\",\n",
    "    \"Sub_metering_1\",\n",
    "    \"Sub_metering_2\",\n",
    "    \"Sub_metering_3\"\n",
    "]\n",
    "target_column = \"Global_active_power\"\n",
    "\n",
    "X = data[feature_columns]\n",
    "Y = data[target_column]\n",
    "\n",
    "# 3. 数据标准化\n",
    "scaler = StandardScaler()\n",
    "X_scaled = scaler.fit_transform(X)\n",
    "\n",
    "# 4. 数据分割为训练集和测试集\n",
    "X_train, X_test, Y_train, Y_test = train_test_split(X_scaled, Y, test_size=0.2, random_state=42)\n",
    "\n",
    "# 输出数据集的维度\n",
    "print(f\"X_train shape: {X_train.shape}\")\n",
    "print(f\"X_test shape: {X_test.shape}\")\n",
    "print(f\"Y_train shape: {Y_train.shape}\")\n",
    "print(f\"Y_test shape: {Y_test.shape}\")"
   ],
   "metadata": {
    "collapsed": false
   }
  },
  {
   "cell_type": "code",
   "execution_count": 28,
   "outputs": [
    {
     "data": {
      "text/plain": "         Global_active_power  Global_reactive_power  Voltage  \\\n0                      4.216                  0.418   234.84   \n1                      5.360                  0.436   233.63   \n2                      5.374                  0.498   233.29   \n3                      5.388                  0.502   233.74   \n4                      3.666                  0.528   235.68   \n...                      ...                    ...      ...   \n2075254                0.946                  0.000   240.43   \n2075255                0.944                  0.000   240.00   \n2075256                0.938                  0.000   239.82   \n2075257                0.934                  0.000   239.70   \n2075258                0.932                  0.000   239.55   \n\n         Global_intensity  Sub_metering_1  Sub_metering_2  Sub_metering_3  \\\n0                    18.4             0.0             1.0            17.0   \n1                    23.0             0.0             1.0            16.0   \n2                    23.0             0.0             2.0            17.0   \n3                    23.0             0.0             1.0            17.0   \n4                    15.8             0.0             1.0            17.0   \n...                   ...             ...             ...             ...   \n2075254               4.0             0.0             0.0             0.0   \n2075255               4.0             0.0             0.0             0.0   \n2075256               3.8             0.0             0.0             0.0   \n2075257               3.8             0.0             0.0             0.0   \n2075258               3.8             0.0             0.0             0.0   \n\n                   Datetime  \n0       2006-12-16 17:24:00  \n1       2006-12-16 17:25:00  \n2       2006-12-16 17:26:00  \n3       2006-12-16 17:27:00  \n4       2006-12-16 17:28:00  \n...                     ...  \n2075254 2010-11-26 20:58:00  \n2075255 2010-11-26 20:59:00  \n2075256 2010-11-26 21:00:00  \n2075257 2010-11-26 21:01:00  \n2075258 2010-11-26 21:02:00  \n\n[2075259 rows x 8 columns]",
      "text/html": "<div>\n<style scoped>\n    .dataframe tbody tr th:only-of-type {\n        vertical-align: middle;\n    }\n\n    .dataframe tbody tr th {\n        vertical-align: top;\n    }\n\n    .dataframe thead th {\n        text-align: right;\n    }\n</style>\n<table border=\"1\" class=\"dataframe\">\n  <thead>\n    <tr style=\"text-align: right;\">\n      <th></th>\n      <th>Global_active_power</th>\n      <th>Global_reactive_power</th>\n      <th>Voltage</th>\n      <th>Global_intensity</th>\n      <th>Sub_metering_1</th>\n      <th>Sub_metering_2</th>\n      <th>Sub_metering_3</th>\n      <th>Datetime</th>\n    </tr>\n  </thead>\n  <tbody>\n    <tr>\n      <th>0</th>\n      <td>4.216</td>\n      <td>0.418</td>\n      <td>234.84</td>\n      <td>18.4</td>\n      <td>0.0</td>\n      <td>1.0</td>\n      <td>17.0</td>\n      <td>2006-12-16 17:24:00</td>\n    </tr>\n    <tr>\n      <th>1</th>\n      <td>5.360</td>\n      <td>0.436</td>\n      <td>233.63</td>\n      <td>23.0</td>\n      <td>0.0</td>\n      <td>1.0</td>\n      <td>16.0</td>\n      <td>2006-12-16 17:25:00</td>\n    </tr>\n    <tr>\n      <th>2</th>\n      <td>5.374</td>\n      <td>0.498</td>\n      <td>233.29</td>\n      <td>23.0</td>\n      <td>0.0</td>\n      <td>2.0</td>\n      <td>17.0</td>\n      <td>2006-12-16 17:26:00</td>\n    </tr>\n    <tr>\n      <th>3</th>\n      <td>5.388</td>\n      <td>0.502</td>\n      <td>233.74</td>\n      <td>23.0</td>\n      <td>0.0</td>\n      <td>1.0</td>\n      <td>17.0</td>\n      <td>2006-12-16 17:27:00</td>\n    </tr>\n    <tr>\n      <th>4</th>\n      <td>3.666</td>\n      <td>0.528</td>\n      <td>235.68</td>\n      <td>15.8</td>\n      <td>0.0</td>\n      <td>1.0</td>\n      <td>17.0</td>\n      <td>2006-12-16 17:28:00</td>\n    </tr>\n    <tr>\n      <th>...</th>\n      <td>...</td>\n      <td>...</td>\n      <td>...</td>\n      <td>...</td>\n      <td>...</td>\n      <td>...</td>\n      <td>...</td>\n      <td>...</td>\n    </tr>\n    <tr>\n      <th>2075254</th>\n      <td>0.946</td>\n      <td>0.000</td>\n      <td>240.43</td>\n      <td>4.0</td>\n      <td>0.0</td>\n      <td>0.0</td>\n      <td>0.0</td>\n      <td>2010-11-26 20:58:00</td>\n    </tr>\n    <tr>\n      <th>2075255</th>\n      <td>0.944</td>\n      <td>0.000</td>\n      <td>240.00</td>\n      <td>4.0</td>\n      <td>0.0</td>\n      <td>0.0</td>\n      <td>0.0</td>\n      <td>2010-11-26 20:59:00</td>\n    </tr>\n    <tr>\n      <th>2075256</th>\n      <td>0.938</td>\n      <td>0.000</td>\n      <td>239.82</td>\n      <td>3.8</td>\n      <td>0.0</td>\n      <td>0.0</td>\n      <td>0.0</td>\n      <td>2010-11-26 21:00:00</td>\n    </tr>\n    <tr>\n      <th>2075257</th>\n      <td>0.934</td>\n      <td>0.000</td>\n      <td>239.70</td>\n      <td>3.8</td>\n      <td>0.0</td>\n      <td>0.0</td>\n      <td>0.0</td>\n      <td>2010-11-26 21:01:00</td>\n    </tr>\n    <tr>\n      <th>2075258</th>\n      <td>0.932</td>\n      <td>0.000</td>\n      <td>239.55</td>\n      <td>3.8</td>\n      <td>0.0</td>\n      <td>0.0</td>\n      <td>0.0</td>\n      <td>2010-11-26 21:02:00</td>\n    </tr>\n  </tbody>\n</table>\n<p>2075259 rows × 8 columns</p>\n</div>"
     },
     "execution_count": 28,
     "metadata": {},
     "output_type": "execute_result"
    }
   ],
   "source": [
    "data"
   ],
   "metadata": {
    "collapsed": false
   }
  },
  {
   "cell_type": "code",
   "execution_count": 30,
   "outputs": [
    {
     "data": {
      "text/plain": "array([[-1.10445372,  1.21135882, -0.86669733, -0.18348885, -0.22444507,\n        -0.77031395],\n       [-1.10445372, -0.07449833, -0.91198216, -0.18348885, -0.22444507,\n        -0.77031395],\n       [-0.22956448,  0.48457   , -0.82141249, -0.18348885, -0.22444507,\n        -0.77031395],\n       ...,\n       [ 0.96671265, -0.3633503 ,  1.21640528,  1.28844743, -0.22444507,\n        -0.77031395],\n       [ 1.19882612, -1.50633444,  0.89941141, -0.18348885,  0.29409544,\n        -0.77031395],\n       [-0.62237189, -0.76091   ,  1.39754464, -0.18348885, -0.22444507,\n        -0.77031395]])"
     },
     "execution_count": 30,
     "metadata": {},
     "output_type": "execute_result"
    }
   ],
   "source": [
    "X_train"
   ],
   "metadata": {
    "collapsed": false
   }
  },
  {
   "cell_type": "code",
   "execution_count": 47,
   "outputs": [],
   "source": [
    "def generate_multidimensional_mackey_glass(num_samples, tau=17, delta_t=0.1, num_attributes=4):\n",
    "    data = np.zeros((num_samples, num_attributes))\n",
    "\n",
    "    data[:tau] = np.random.rand(tau, num_attributes)\n",
    "\n",
    "    # 定义系统的参数\n",
    "    beta = 0.2\n",
    "    gamma = 0.1\n",
    "    n = 10\n",
    "\n",
    "    # 按照因果关系生成后续样本\n",
    "    for t in range(tau, num_samples):\n",
    "        # 变量A的变化\n",
    "        data[t, 0] = data[t - 1, 0] + (beta * data[t - tau, 0] / (1 + data[t - tau, 0] ** n) - gamma * data[t - 1, 0]) * delta_t\n",
    "\n",
    "        # 变量B的变化，受A的滞后值以及B自身的影响\n",
    "        data[t, 1] = data[t - 1, 1] + (0.25 * data[t - tau, 0] / (1 + data[t - tau, 0] ** n) - gamma * data[t - 1, 1]) * delta_t\n",
    "\n",
    "        # 变量C的变化，受B的滞后值和随机噪声的影响\n",
    "        data[t, 2] = data[t - 1, 2] + (0.15 * data[t - tau, 1] / (1 + data[t - tau, 1] ** n) - gamma * data[t - 1, 2]) * delta_t + np.random.normal(0, 0.05)\n",
    "\n",
    "        # 变量D的变化，受C和D的延迟值的共同影响\n",
    "        data[t, 3] = data[t - 1, 3] + (0.1 * data[t - tau, 2] / (1 + data[t - tau, 2] ** n) + 0.2 * data[t - 1, 3] - gamma * data[t - 1, 3]) * delta_t\n",
    "\n",
    "    return data"
   ],
   "metadata": {
    "collapsed": false
   }
  },
  {
   "cell_type": "code",
   "execution_count": 32,
   "outputs": [
    {
     "data": {
      "text/plain": "array([[0.17911232, 0.53397462, 0.76660899, 0.91631666],\n       [0.2535497 , 0.88928875, 0.51953572, 0.76912559],\n       [0.54032217, 0.85720013, 0.70358474, 0.77521258],\n       [0.89440047, 0.13323206, 0.34923206, 0.77980265],\n       [0.6806855 , 0.0109137 , 0.90046284, 0.44787443],\n       [0.16051684, 0.16771556, 0.82125419, 0.95789369],\n       [0.83780151, 0.83141506, 0.93478239, 0.94449441],\n       [0.29782357, 0.76533911, 0.75731088, 0.59007987],\n       [0.80704763, 0.41446363, 0.82529597, 0.77720349],\n       [0.88513263, 0.03663919, 0.02898734, 0.58571761],\n       [0.35731089, 0.37224017, 0.9937926 , 0.81148422],\n       [0.43075377, 0.88077007, 0.67690751, 0.16425351],\n       [0.80709543, 0.71552614, 0.4765325 , 0.16266754],\n       [0.96751463, 0.69620164, 0.48221266, 0.72305296],\n       [0.40692908, 0.61241031, 0.56158876, 0.28532912],\n       [0.13381383, 0.38498384, 0.36622709, 0.9656612 ],\n       [0.29979965, 0.66951079, 0.38913459, 0.84372005],\n       [0.3003839 , 0.66729349, 0.40668243, 0.85932113],\n       [0.30245105, 0.66695929, 0.34660035, 0.87310226],\n       [0.31021011, 0.67376916, 0.42815325, 0.88866601],\n       [0.32058214, 0.68387413, 0.46081461, 0.9010449 ],\n       [0.33070541, 0.69369675, 0.33479693, 0.91672309],\n       [0.33060869, 0.6907727 , 0.30142843, 0.93309706],\n       [0.34161938, 0.70176095, 0.26551786, 0.94862088],\n       [0.34415963, 0.70218889, 0.29203935, 0.96523774],\n       [0.35516549, 0.71322633, 0.32290804, 0.98208796],\n       [0.36528196, 0.72317922, 0.36108293, 0.99219871],\n       [0.36877512, 0.7248799 , 0.34559504, 1.00724431],\n       [0.37370055, 0.72839758, 0.28554121, 1.02395182],\n       [0.38441096, 0.73917287, 0.32900567, 1.03895379],\n       [0.39182523, 0.74585412, 0.28212031, 1.05416218],\n       [0.39604454, 0.74856754, 0.2740769 , 1.07030222],\n       [0.39476038, 0.74442721, 0.25884719, 1.08466735],\n       [0.39680873, 0.74447788, 0.35110786, 1.09940506],\n       [0.39884828, 0.74454266, 0.41467454, 1.11446544],\n       [0.40090878, 0.74465846, 0.34926141, 1.12907601],\n       [0.40310385, 0.74496706, 0.33997305, 1.14464741],\n       [0.40548438, 0.74553185, 0.33857939, 1.16070004],\n       [0.40804354, 0.74634404, 0.31332074, 1.17565495],\n       [0.41057517, 0.74714569, 0.40496547, 1.19042577],\n       [0.41330166, 0.74821453, 0.41845412, 1.2049852 ],\n       [0.41605168, 0.74933617, 0.39029889, 1.21995543],\n       [0.41899424, 0.75072167, 0.41797197, 1.23538403],\n       [0.42210963, 0.75234611, 0.33403567, 1.25134856],\n       [0.42526369, 0.7540416 , 0.46762655, 1.26731791],\n       [0.42848467, 0.7558432 , 0.47966251, 1.2828465 ],\n       [0.4318875 , 0.75789437, 0.45637946, 1.29896497],\n       [0.43540446, 0.76011022, 0.55221859, 1.31477581],\n       [0.43897056, 0.76240929, 0.52866598, 1.33066433],\n       [0.44247533, 0.7646533 , 0.51398974, 1.34655944],\n       [0.44598599, 0.76692602, 0.46603257, 1.36353602],\n       [0.44950228, 0.76922696, 0.49167963, 1.3813175 ],\n       [0.45302457, 0.77155633, 0.54926024, 1.39862319],\n       [0.45655549, 0.77391722, 0.66270118, 1.41600909],\n       [0.46009865, 0.77631394, 0.71904681, 1.4335549 ],\n       [0.46365749, 0.77875059, 0.71299875, 1.45102363],\n       [0.4672313 , 0.78122606, 0.76757079, 1.46958304],\n       [0.47082382, 0.78374484, 0.80334755, 1.48846273],\n       [0.47443532, 0.78630707, 0.87660063, 1.50725002],\n       [0.47806946, 0.78891711, 0.86364379, 1.52650156],\n       [0.48172944, 0.79157878, 0.8027997 , 1.54510688],\n       [0.48541577, 0.79429253, 0.70073754, 1.56523187],\n       [0.48912952, 0.79705949, 0.65091381, 1.58567773],\n       [0.49287403, 0.79988364, 0.68637781, 1.60609651],\n       [0.49665124, 0.80276725, 0.6321261 , 1.62766514],\n       [0.50046181, 0.80571093, 0.63045417, 1.64921945],\n       [0.50430415, 0.80871252, 0.67553809, 1.67084493],\n       [0.50817806, 0.81177158, 0.7054699 , 1.69221146],\n       [0.51208329, 0.81488764, 0.7500315 , 1.71404631],\n       [0.51601966, 0.81806025, 0.78348311, 1.73666569],\n       [0.51998698, 0.82128905, 0.76074033, 1.76055283],\n       [0.52398517, 0.82457373, 0.66245161, 1.78509263],\n       [0.52801421, 0.82791411, 0.68691569, 1.8098394 ],\n       [0.53207407, 0.83130997, 0.68412745, 1.83510474],\n       [0.53616476, 0.83476117, 0.708322  , 1.86068044],\n       [0.54028634, 0.83826759, 0.70134545, 1.88620089],\n       [0.54443891, 0.8418292 , 0.67646836, 1.9120795 ],\n       [0.54862263, 0.84544604, 0.56683426, 1.93842497],\n       [0.55283767, 0.84911817, 0.54702081, 1.96462211],\n       [0.55708422, 0.85284565, 0.52760975, 1.99068979],\n       [0.56136253, 0.85662863, 0.550558  , 2.01730479],\n       [0.56567287, 0.8604673 , 0.58853453, 2.04373535],\n       [0.57001552, 0.86436185, 0.56787764, 2.07041532],\n       [0.57439073, 0.86831243, 0.58919953, 2.09774374],\n       [0.57879872, 0.87231919, 0.57001253, 2.12556685],\n       [0.58323972, 0.87638222, 0.51900683, 2.15392283],\n       [0.58771392, 0.88050164, 0.49147254, 2.18266878],\n       [0.59222151, 0.88467754, 0.54194375, 2.21163912],\n       [0.59676267, 0.88890999, 0.5037799 , 2.24027393],\n       [0.60133757, 0.89319905, 0.50360397, 2.26938883],\n       [0.60594636, 0.89754476, 0.55509394, 2.29877373],\n       [0.61058918, 0.90194717, 0.59450088, 2.32862644],\n       [0.61526616, 0.90640629, 0.62433564, 2.35872985],\n       [0.61997742, 0.91092212, 0.70675407, 2.38894876],\n       [0.62472306, 0.91549467, 0.75755675, 2.41848725],\n       [0.62950317, 0.92012391, 0.83308114, 2.44812924],\n       [0.63431784, 0.9248098 , 0.84880359, 2.47787782],\n       [0.63916713, 0.92955228, 0.80752187, 2.50814813],\n       [0.64405109, 0.9343513 , 0.78675112, 2.53908576],\n       [0.64896976, 0.93920676, 0.81554078, 2.57013566]])"
     },
     "execution_count": 32,
     "metadata": {},
     "output_type": "execute_result"
    }
   ],
   "source": [
    "generate_multidimensional_mackey_glass(100)"
   ],
   "metadata": {
    "collapsed": false
   }
  },
  {
   "cell_type": "code",
   "execution_count": 34,
   "outputs": [
    {
     "name": "stdout",
     "output_type": "stream",
     "text": [
      "[[ 0  1  2  3  4  5  6  7  8  9 10 11 12 13 14 15 16 17 18 19 20 21 22 23\n",
      "  24 25 26 27 28 29 30 31]]\n",
      "原始数据形状: (1, 32)\n",
      "重塑后的数据形状: (8, 4)\n",
      "[[ 0  1  2  3]\n",
      " [ 4  5  6  7]\n",
      " [ 8  9 10 11]\n",
      " [12 13 14 15]\n",
      " [16 17 18 19]\n",
      " [20 21 22 23]\n",
      " [24 25 26 27]\n",
      " [28 29 30 31]]\n"
     ]
    }
   ],
   "source": [
    "import numpy as np\n",
    "\n",
    "# 假设数据是 (n, 32)\n",
    "n = 1  # 示例行数\n",
    "data = np.arange(n * 32).reshape(n, 32)  # 模拟数据，形状为 (n, 32)\n",
    "\n",
    "# 将每行的 32 列重塑为 (8, 4)，然后按行堆叠\n",
    "reshaped_data = data.reshape(n, 8, 4).reshape(-1, 4)\n",
    "\n",
    "print(data)\n",
    "print(\"原始数据形状:\", data.shape)\n",
    "print(\"重塑后的数据形状:\", reshaped_data.shape)\n",
    "print(reshaped_data)"
   ],
   "metadata": {
    "collapsed": false
   }
  },
  {
   "cell_type": "code",
   "execution_count": 37,
   "outputs": [],
   "source": [
    "expression_data_path = \"../Data/dream3/DREAM3_GeneExpressionChallenge_ExpressionData_UPDATED.txt\"\n",
    "target_list_path = \"../Data/dream3/DREAM3_GeneExpressionChallenge_TargetList.txt\"\n",
    "\n",
    "expression_df = pd.read_csv(expression_data_path, sep=\"\\t\")\n",
    "target_list_df = pd.read_csv(target_list_path, sep=\"\\t\")\n",
    "\n",
    "target_probe_ids = target_list_df[\"probeID\"].dropna().tolist()\n",
    "\n",
    "non_target_data = expression_df[~expression_df[\"ProbeID\"].isin(target_probe_ids)]\n",
    "\n",
    "non_target_data = non_target_data[0:30]\n",
    "\n",
    "\n"
   ],
   "metadata": {
    "collapsed": false
   }
  },
  {
   "cell_type": "code",
   "execution_count": 41,
   "outputs": [
    {
     "data": {
      "text/plain": "    wt t=0   wt t=10   wt t=20   wt t=30   wt t=45   wt t=60   wt t=90  \\\n0        0  0.080088 -0.021480 -0.207893  0.070967 -0.066261 -0.063503   \n1        0 -0.466758 -0.376290 -0.619178 -0.199123 -0.107018 -0.142740   \n2        0 -0.312665 -0.146655 -0.640621 -0.097611 -0.200379 -0.304511   \n3        0 -0.182692 -0.105678 -0.447844 -0.119024 -0.167358 -0.244887   \n4        0  0.164884  0.182786  0.186065  0.103147  0.129734  0.107803   \n5        0 -0.238787 -0.140124 -0.804880 -0.153157 -0.164786 -0.358396   \n6        0  0.543720 -0.178874 -0.718964 -0.052416 -0.209141 -0.178874   \n7        0  0.011588 -0.132248 -0.120352 -0.166073 -0.257011 -0.442545   \n8        0  0.163268  0.205896  0.537424  0.186065  0.177882  0.080088   \n9        0  0.438307  0.160040  0.272297  0.352916  0.312939 -0.191563   \n10       0 -0.364012 -0.834307 -1.027154 -0.292782 -0.253384 -0.360645   \n11       0  0.182786  0.103147  0.172994  0.120294  0.100051  0.067939   \n12       0 -1.480782 -1.623399 -1.740712 -1.308011 -1.276199 -0.912267   \n13       0  0.187707 -0.124328 -0.606916 -0.182692 -0.149259 -0.192825   \n14       0 -0.723340 -0.523060 -0.387363 -0.361768 -0.668119 -0.737254   \n15       0 -0.763836 -0.545968 -0.973060 -0.909197 -0.801573 -0.757877   \n16       0 -0.164786 -0.112367 -0.609755 -0.021480 -0.089498 -0.137504   \n17       0  0.032094 -0.027154  0.131313  0.174621 -0.067639 -0.066261   \n18       0 -0.037031  0.222633  0.246395  0.172994 -0.064883 -0.046840   \n19       0 -1.614003 -1.731618 -1.599318 -0.495695 -0.323082 -0.756169   \n20       0 -0.339137 -0.550901 -0.646163 -0.302173 -0.470927 -0.695103   \n21       0 -0.529071 -0.655352 -0.448901 -0.376290 -0.086784 -0.196607   \n22       0  0.231075  0.161653  0.456009  0.384584  0.282790  0.181149   \n23       0  0.137648  0.060397  0.689660  0.137648  0.084670  0.080088   \n24       0  0.021804 -0.147958  0.039488 -0.020058 -0.280956 -0.415759   \n25       0 -0.115033 -0.171207  0.020340 -0.173767 -0.210389 -0.321928   \n26       0 -0.007196 -0.014355  0.459973  0.155213 -0.035624  0.021804   \n27       0  0.015958 -0.128293  0.351074 -0.051024 -0.257011 -0.206643   \n28       0 -0.481299 -0.347099  0.296899 -0.142740  0.081614  0.000000   \n29       0 -0.277390  0.142417  0.067939  0.036526 -0.164786 -0.077243   \n\n    wt t=120 gat1-deletion t=0 gat1-deletion t=10  ... gcn4-deletion t=90  \\\n0  -0.062122      -0.149259365       -0.166072676  ...           0.081614   \n1  -0.210389       0.066427362        0.013043037  ...           0.302226   \n2  -0.082703      -0.014355293        -0.22897257  ...          -0.478195   \n3  -0.194087      -0.132247798       -0.247319935  ...          -0.302173   \n4   0.186065       0.086201035        0.067938829  ...           0.112475   \n5  -0.182692      -0.060739158        0.081613766  ...          -0.128293   \n6  -0.115033      -0.075874867         0.10780329  ...          -0.303342   \n7  -0.546956      -0.339137385       -0.380729449  ...          -0.473008   \n8   0.067939      -0.015782997       -0.206643224  ...           0.058894   \n9  -0.216610      -0.353887836       -0.566571641  ...          -0.018634   \n10 -0.393965       0.078563669       -0.264236151  ...           0.067939   \n11  0.186065       0.158429363       -0.049630768  ...          -0.012926   \n12 -0.821302        0.49410907       -0.992768431  ...          -0.529071   \n13 -0.020058       0.023269779        0.219269964  ...           0.038006   \n14 -0.716332      -0.429749851       -0.901494455  ...          -0.325386   \n15 -0.741575       0.351074441                  0  ...           0.114035   \n16  0.064917       0.253257284       -0.167357928  ...          -0.048236   \n17  0.272297       -0.22650853       -0.299830762  ...          -0.169925   \n18  0.007232      -0.151858817       -0.308011315  ...          -0.296311   \n19 -0.633199      -0.431890348       -1.622930351  ...          -0.201634   \n20 -0.635058      -0.279768422       -0.426533138  ...          -0.408168   \n21 -0.046840      -0.231432408       -0.686164326  ...          -0.361768   \n22  0.818579      -0.097610797        0.134477041  ...           0.411195   \n23  0.200913       0.064917477        0.029146346  ...          -0.067639   \n24 -0.151859      -0.142740172       -0.021479727  ...          -0.226509   \n25 -0.134878      -0.008630305       -0.088141597  ...          -0.264236   \n26  0.152003      -0.045442971        -0.38294387  ...          -0.078610   \n27 -0.085425      -0.002882509       -0.411426246  ...          -0.211635   \n28 -0.084064       0.045431429       -0.738119289  ...           0.084670   \n29  0.388355       0.304006187       -0.126972856  ...           0.120294   \n\n   gcn4-deletion t=120 leu3-deletion t=0 leu3-deletion t=10  \\\n0            -0.079975         -0.185232          -0.205393   \n1            -0.147958         -0.149259          -0.382944   \n2            -0.610700         -0.385155          -0.590722   \n3            -0.473008         -0.284514          -0.492622   \n4             0.349235          0.036526           0.013043   \n5            -0.599318          0.005782          -0.059355   \n6            -0.321928         -0.439357          -0.246104   \n7            -0.590722         -0.316146           0.078564   \n8             0.246395         -0.142740          -0.166073   \n9            -0.230203          0.189351          -0.078610   \n10           -0.313826         -0.172488          -0.411426   \n11           -0.002883          0.045431           0.018878   \n12           -0.681674          0.962969          -0.741575   \n13           -0.008630         -0.001442           0.107803   \n14           -0.804054          0.526992          -0.140124   \n15           -0.695994          0.120294          -0.160920   \n16           -0.244887         -0.117695          -0.104337   \n17            0.358454         -0.236340          -0.162210   \n18            0.318326         -0.201634          -0.227741   \n19           -1.482332         -0.319618          -0.941858   \n20           -0.733788         -0.368489          -0.282143   \n21           -0.195348         -0.440421          -0.644318   \n22            0.454032         -0.224040          -0.102994   \n23            0.388355          0.014500          -0.220330   \n24           -0.697774         -0.185232           0.117161   \n25           -0.374066         -0.248535           0.013043   \n26            0.132894          0.106249          -0.111031   \n27           -0.146655          0.155213          -0.158337   \n28            0.450084         -0.253384          -0.751035   \n29            0.158429         -0.041243          -0.249749   \n\n   leu3-deletion t=20 leu3-deletion t=30  leu3-deletion t=45  \\\n0           -0.071763          -0.060739            0.000000   \n1            0.182786          -0.007196            0.020340   \n2           -0.319618          -0.109695           -0.468844   \n3           -0.358396          -0.404903           -0.499782   \n4           -0.005759           0.057392            0.052895   \n5            0.239566          -0.062122            0.054392   \n6           -0.147958          -0.112367           -0.241230   \n7            0.220950          -0.543991            0.018878   \n8           -0.097611          -0.008630            0.036526   \n9           -0.073135          -0.073135           -0.053806   \n10          -0.490570          -0.401630           -0.421156   \n11           0.140826          -0.028569           -0.010064   \n12          -0.397255          -0.273814           -0.014355   \n13          -0.237564           0.090803           -0.176323   \n14           0.058894          -0.457332           -0.067639   \n15           0.018878          -0.292782           -0.028569   \n16          -0.202888           0.004335           -0.224040   \n17          -0.085425          -0.044044           -0.012926   \n18          -0.130931          -0.202888           -0.337996   \n19          -0.190299          -0.371838           -0.157044   \n20           0.069452          -0.551885           -0.343692   \n21          -0.500802          -0.244887           -0.337996   \n22          -0.093560          -0.063503           -0.011496   \n23          -0.046840          -0.086784           -0.102994   \n24           0.030619           0.128156            0.017417   \n25           0.001443          -0.079975           -0.073135   \n26           0.007232           0.126580           -0.032806   \n27          -0.328836          -0.027154           -0.051024   \n28          -0.717210          -0.358396           -0.077243   \n29          -0.138814           0.184425           -0.185232   \n\n    leu3-deletion t=60  leu3-deletion t=90  leu3-deletion t=120  \n0             0.042457           -0.146655            -0.246104  \n1            -0.052416            0.074001             0.187707  \n2            -0.442545           -0.284514            -0.356144  \n3            -0.343692           -0.263034            -0.376290  \n4             0.163268           -0.024320            -0.064883  \n5            -0.150560            0.128156             0.101598  \n6            -0.242450           -0.197865            -0.331132  \n7            -0.489543           -0.266637            -0.097611  \n8             0.030619           -0.160920            -0.053806  \n9             0.305788            0.110916            -0.052416  \n10           -0.253384           -0.448901            -0.480265  \n11           -0.024320            0.030619            -0.186501  \n12            0.325539           -0.097611            -0.236340  \n13           -0.005759            0.080088             0.186065  \n14           -0.489543           -0.273814            -0.220330  \n15           -0.136191           -0.146655             0.131313  \n16            0.030619            0.026205            -0.039840  \n17           -0.034216           -0.227741            -0.088142  \n18           -0.147958           -0.329985            -0.264236  \n19           -0.432959           -0.562670            -0.852798  \n20           -0.719841           -0.458382            -0.420078  \n21           -0.399445           -0.455229            -0.528071  \n22            0.104697            0.375197             0.411195  \n23           -0.066261            0.092340            -0.272620  \n24           -0.316146           -0.038436            -0.227741  \n25           -0.269033           -0.181421            -0.180148  \n26           -0.004322            0.001443            -0.132248  \n27           -0.228973           -0.145351            -0.263034  \n28            0.023270           -0.132248            -0.371838  \n29           -0.092207            0.229382             0.132894  \n\n[30 rows x 32 columns]",
      "text/html": "<div>\n<style scoped>\n    .dataframe tbody tr th:only-of-type {\n        vertical-align: middle;\n    }\n\n    .dataframe tbody tr th {\n        vertical-align: top;\n    }\n\n    .dataframe thead th {\n        text-align: right;\n    }\n</style>\n<table border=\"1\" class=\"dataframe\">\n  <thead>\n    <tr style=\"text-align: right;\">\n      <th></th>\n      <th>wt t=0</th>\n      <th>wt t=10</th>\n      <th>wt t=20</th>\n      <th>wt t=30</th>\n      <th>wt t=45</th>\n      <th>wt t=60</th>\n      <th>wt t=90</th>\n      <th>wt t=120</th>\n      <th>gat1-deletion t=0</th>\n      <th>gat1-deletion t=10</th>\n      <th>...</th>\n      <th>gcn4-deletion t=90</th>\n      <th>gcn4-deletion t=120</th>\n      <th>leu3-deletion t=0</th>\n      <th>leu3-deletion t=10</th>\n      <th>leu3-deletion t=20</th>\n      <th>leu3-deletion t=30</th>\n      <th>leu3-deletion t=45</th>\n      <th>leu3-deletion t=60</th>\n      <th>leu3-deletion t=90</th>\n      <th>leu3-deletion t=120</th>\n    </tr>\n  </thead>\n  <tbody>\n    <tr>\n      <th>0</th>\n      <td>0</td>\n      <td>0.080088</td>\n      <td>-0.021480</td>\n      <td>-0.207893</td>\n      <td>0.070967</td>\n      <td>-0.066261</td>\n      <td>-0.063503</td>\n      <td>-0.062122</td>\n      <td>-0.149259365</td>\n      <td>-0.166072676</td>\n      <td>...</td>\n      <td>0.081614</td>\n      <td>-0.079975</td>\n      <td>-0.185232</td>\n      <td>-0.205393</td>\n      <td>-0.071763</td>\n      <td>-0.060739</td>\n      <td>0.000000</td>\n      <td>0.042457</td>\n      <td>-0.146655</td>\n      <td>-0.246104</td>\n    </tr>\n    <tr>\n      <th>1</th>\n      <td>0</td>\n      <td>-0.466758</td>\n      <td>-0.376290</td>\n      <td>-0.619178</td>\n      <td>-0.199123</td>\n      <td>-0.107018</td>\n      <td>-0.142740</td>\n      <td>-0.210389</td>\n      <td>0.066427362</td>\n      <td>0.013043037</td>\n      <td>...</td>\n      <td>0.302226</td>\n      <td>-0.147958</td>\n      <td>-0.149259</td>\n      <td>-0.382944</td>\n      <td>0.182786</td>\n      <td>-0.007196</td>\n      <td>0.020340</td>\n      <td>-0.052416</td>\n      <td>0.074001</td>\n      <td>0.187707</td>\n    </tr>\n    <tr>\n      <th>2</th>\n      <td>0</td>\n      <td>-0.312665</td>\n      <td>-0.146655</td>\n      <td>-0.640621</td>\n      <td>-0.097611</td>\n      <td>-0.200379</td>\n      <td>-0.304511</td>\n      <td>-0.082703</td>\n      <td>-0.014355293</td>\n      <td>-0.22897257</td>\n      <td>...</td>\n      <td>-0.478195</td>\n      <td>-0.610700</td>\n      <td>-0.385155</td>\n      <td>-0.590722</td>\n      <td>-0.319618</td>\n      <td>-0.109695</td>\n      <td>-0.468844</td>\n      <td>-0.442545</td>\n      <td>-0.284514</td>\n      <td>-0.356144</td>\n    </tr>\n    <tr>\n      <th>3</th>\n      <td>0</td>\n      <td>-0.182692</td>\n      <td>-0.105678</td>\n      <td>-0.447844</td>\n      <td>-0.119024</td>\n      <td>-0.167358</td>\n      <td>-0.244887</td>\n      <td>-0.194087</td>\n      <td>-0.132247798</td>\n      <td>-0.247319935</td>\n      <td>...</td>\n      <td>-0.302173</td>\n      <td>-0.473008</td>\n      <td>-0.284514</td>\n      <td>-0.492622</td>\n      <td>-0.358396</td>\n      <td>-0.404903</td>\n      <td>-0.499782</td>\n      <td>-0.343692</td>\n      <td>-0.263034</td>\n      <td>-0.376290</td>\n    </tr>\n    <tr>\n      <th>4</th>\n      <td>0</td>\n      <td>0.164884</td>\n      <td>0.182786</td>\n      <td>0.186065</td>\n      <td>0.103147</td>\n      <td>0.129734</td>\n      <td>0.107803</td>\n      <td>0.186065</td>\n      <td>0.086201035</td>\n      <td>0.067938829</td>\n      <td>...</td>\n      <td>0.112475</td>\n      <td>0.349235</td>\n      <td>0.036526</td>\n      <td>0.013043</td>\n      <td>-0.005759</td>\n      <td>0.057392</td>\n      <td>0.052895</td>\n      <td>0.163268</td>\n      <td>-0.024320</td>\n      <td>-0.064883</td>\n    </tr>\n    <tr>\n      <th>5</th>\n      <td>0</td>\n      <td>-0.238787</td>\n      <td>-0.140124</td>\n      <td>-0.804880</td>\n      <td>-0.153157</td>\n      <td>-0.164786</td>\n      <td>-0.358396</td>\n      <td>-0.182692</td>\n      <td>-0.060739158</td>\n      <td>0.081613766</td>\n      <td>...</td>\n      <td>-0.128293</td>\n      <td>-0.599318</td>\n      <td>0.005782</td>\n      <td>-0.059355</td>\n      <td>0.239566</td>\n      <td>-0.062122</td>\n      <td>0.054392</td>\n      <td>-0.150560</td>\n      <td>0.128156</td>\n      <td>0.101598</td>\n    </tr>\n    <tr>\n      <th>6</th>\n      <td>0</td>\n      <td>0.543720</td>\n      <td>-0.178874</td>\n      <td>-0.718964</td>\n      <td>-0.052416</td>\n      <td>-0.209141</td>\n      <td>-0.178874</td>\n      <td>-0.115033</td>\n      <td>-0.075874867</td>\n      <td>0.10780329</td>\n      <td>...</td>\n      <td>-0.303342</td>\n      <td>-0.321928</td>\n      <td>-0.439357</td>\n      <td>-0.246104</td>\n      <td>-0.147958</td>\n      <td>-0.112367</td>\n      <td>-0.241230</td>\n      <td>-0.242450</td>\n      <td>-0.197865</td>\n      <td>-0.331132</td>\n    </tr>\n    <tr>\n      <th>7</th>\n      <td>0</td>\n      <td>0.011588</td>\n      <td>-0.132248</td>\n      <td>-0.120352</td>\n      <td>-0.166073</td>\n      <td>-0.257011</td>\n      <td>-0.442545</td>\n      <td>-0.546956</td>\n      <td>-0.339137385</td>\n      <td>-0.380729449</td>\n      <td>...</td>\n      <td>-0.473008</td>\n      <td>-0.590722</td>\n      <td>-0.316146</td>\n      <td>0.078564</td>\n      <td>0.220950</td>\n      <td>-0.543991</td>\n      <td>0.018878</td>\n      <td>-0.489543</td>\n      <td>-0.266637</td>\n      <td>-0.097611</td>\n    </tr>\n    <tr>\n      <th>8</th>\n      <td>0</td>\n      <td>0.163268</td>\n      <td>0.205896</td>\n      <td>0.537424</td>\n      <td>0.186065</td>\n      <td>0.177882</td>\n      <td>0.080088</td>\n      <td>0.067939</td>\n      <td>-0.015782997</td>\n      <td>-0.206643224</td>\n      <td>...</td>\n      <td>0.058894</td>\n      <td>0.246395</td>\n      <td>-0.142740</td>\n      <td>-0.166073</td>\n      <td>-0.097611</td>\n      <td>-0.008630</td>\n      <td>0.036526</td>\n      <td>0.030619</td>\n      <td>-0.160920</td>\n      <td>-0.053806</td>\n    </tr>\n    <tr>\n      <th>9</th>\n      <td>0</td>\n      <td>0.438307</td>\n      <td>0.160040</td>\n      <td>0.272297</td>\n      <td>0.352916</td>\n      <td>0.312939</td>\n      <td>-0.191563</td>\n      <td>-0.216610</td>\n      <td>-0.353887836</td>\n      <td>-0.566571641</td>\n      <td>...</td>\n      <td>-0.018634</td>\n      <td>-0.230203</td>\n      <td>0.189351</td>\n      <td>-0.078610</td>\n      <td>-0.073135</td>\n      <td>-0.073135</td>\n      <td>-0.053806</td>\n      <td>0.305788</td>\n      <td>0.110916</td>\n      <td>-0.052416</td>\n    </tr>\n    <tr>\n      <th>10</th>\n      <td>0</td>\n      <td>-0.364012</td>\n      <td>-0.834307</td>\n      <td>-1.027154</td>\n      <td>-0.292782</td>\n      <td>-0.253384</td>\n      <td>-0.360645</td>\n      <td>-0.393965</td>\n      <td>0.078563669</td>\n      <td>-0.264236151</td>\n      <td>...</td>\n      <td>0.067939</td>\n      <td>-0.313826</td>\n      <td>-0.172488</td>\n      <td>-0.411426</td>\n      <td>-0.490570</td>\n      <td>-0.401630</td>\n      <td>-0.421156</td>\n      <td>-0.253384</td>\n      <td>-0.448901</td>\n      <td>-0.480265</td>\n    </tr>\n    <tr>\n      <th>11</th>\n      <td>0</td>\n      <td>0.182786</td>\n      <td>0.103147</td>\n      <td>0.172994</td>\n      <td>0.120294</td>\n      <td>0.100051</td>\n      <td>0.067939</td>\n      <td>0.186065</td>\n      <td>0.158429363</td>\n      <td>-0.049630768</td>\n      <td>...</td>\n      <td>-0.012926</td>\n      <td>-0.002883</td>\n      <td>0.045431</td>\n      <td>0.018878</td>\n      <td>0.140826</td>\n      <td>-0.028569</td>\n      <td>-0.010064</td>\n      <td>-0.024320</td>\n      <td>0.030619</td>\n      <td>-0.186501</td>\n    </tr>\n    <tr>\n      <th>12</th>\n      <td>0</td>\n      <td>-1.480782</td>\n      <td>-1.623399</td>\n      <td>-1.740712</td>\n      <td>-1.308011</td>\n      <td>-1.276199</td>\n      <td>-0.912267</td>\n      <td>-0.821302</td>\n      <td>0.49410907</td>\n      <td>-0.992768431</td>\n      <td>...</td>\n      <td>-0.529071</td>\n      <td>-0.681674</td>\n      <td>0.962969</td>\n      <td>-0.741575</td>\n      <td>-0.397255</td>\n      <td>-0.273814</td>\n      <td>-0.014355</td>\n      <td>0.325539</td>\n      <td>-0.097611</td>\n      <td>-0.236340</td>\n    </tr>\n    <tr>\n      <th>13</th>\n      <td>0</td>\n      <td>0.187707</td>\n      <td>-0.124328</td>\n      <td>-0.606916</td>\n      <td>-0.182692</td>\n      <td>-0.149259</td>\n      <td>-0.192825</td>\n      <td>-0.020058</td>\n      <td>0.023269779</td>\n      <td>0.219269964</td>\n      <td>...</td>\n      <td>0.038006</td>\n      <td>-0.008630</td>\n      <td>-0.001442</td>\n      <td>0.107803</td>\n      <td>-0.237564</td>\n      <td>0.090803</td>\n      <td>-0.176323</td>\n      <td>-0.005759</td>\n      <td>0.080088</td>\n      <td>0.186065</td>\n    </tr>\n    <tr>\n      <th>14</th>\n      <td>0</td>\n      <td>-0.723340</td>\n      <td>-0.523060</td>\n      <td>-0.387363</td>\n      <td>-0.361768</td>\n      <td>-0.668119</td>\n      <td>-0.737254</td>\n      <td>-0.716332</td>\n      <td>-0.429749851</td>\n      <td>-0.901494455</td>\n      <td>...</td>\n      <td>-0.325386</td>\n      <td>-0.804054</td>\n      <td>0.526992</td>\n      <td>-0.140124</td>\n      <td>0.058894</td>\n      <td>-0.457332</td>\n      <td>-0.067639</td>\n      <td>-0.489543</td>\n      <td>-0.273814</td>\n      <td>-0.220330</td>\n    </tr>\n    <tr>\n      <th>15</th>\n      <td>0</td>\n      <td>-0.763836</td>\n      <td>-0.545968</td>\n      <td>-0.973060</td>\n      <td>-0.909197</td>\n      <td>-0.801573</td>\n      <td>-0.757877</td>\n      <td>-0.741575</td>\n      <td>0.351074441</td>\n      <td>0</td>\n      <td>...</td>\n      <td>0.114035</td>\n      <td>-0.695994</td>\n      <td>0.120294</td>\n      <td>-0.160920</td>\n      <td>0.018878</td>\n      <td>-0.292782</td>\n      <td>-0.028569</td>\n      <td>-0.136191</td>\n      <td>-0.146655</td>\n      <td>0.131313</td>\n    </tr>\n    <tr>\n      <th>16</th>\n      <td>0</td>\n      <td>-0.164786</td>\n      <td>-0.112367</td>\n      <td>-0.609755</td>\n      <td>-0.021480</td>\n      <td>-0.089498</td>\n      <td>-0.137504</td>\n      <td>0.064917</td>\n      <td>0.253257284</td>\n      <td>-0.167357928</td>\n      <td>...</td>\n      <td>-0.048236</td>\n      <td>-0.244887</td>\n      <td>-0.117695</td>\n      <td>-0.104337</td>\n      <td>-0.202888</td>\n      <td>0.004335</td>\n      <td>-0.224040</td>\n      <td>0.030619</td>\n      <td>0.026205</td>\n      <td>-0.039840</td>\n    </tr>\n    <tr>\n      <th>17</th>\n      <td>0</td>\n      <td>0.032094</td>\n      <td>-0.027154</td>\n      <td>0.131313</td>\n      <td>0.174621</td>\n      <td>-0.067639</td>\n      <td>-0.066261</td>\n      <td>0.272297</td>\n      <td>-0.22650853</td>\n      <td>-0.299830762</td>\n      <td>...</td>\n      <td>-0.169925</td>\n      <td>0.358454</td>\n      <td>-0.236340</td>\n      <td>-0.162210</td>\n      <td>-0.085425</td>\n      <td>-0.044044</td>\n      <td>-0.012926</td>\n      <td>-0.034216</td>\n      <td>-0.227741</td>\n      <td>-0.088142</td>\n    </tr>\n    <tr>\n      <th>18</th>\n      <td>0</td>\n      <td>-0.037031</td>\n      <td>0.222633</td>\n      <td>0.246395</td>\n      <td>0.172994</td>\n      <td>-0.064883</td>\n      <td>-0.046840</td>\n      <td>0.007232</td>\n      <td>-0.151858817</td>\n      <td>-0.308011315</td>\n      <td>...</td>\n      <td>-0.296311</td>\n      <td>0.318326</td>\n      <td>-0.201634</td>\n      <td>-0.227741</td>\n      <td>-0.130931</td>\n      <td>-0.202888</td>\n      <td>-0.337996</td>\n      <td>-0.147958</td>\n      <td>-0.329985</td>\n      <td>-0.264236</td>\n    </tr>\n    <tr>\n      <th>19</th>\n      <td>0</td>\n      <td>-1.614003</td>\n      <td>-1.731618</td>\n      <td>-1.599318</td>\n      <td>-0.495695</td>\n      <td>-0.323082</td>\n      <td>-0.756169</td>\n      <td>-0.633199</td>\n      <td>-0.431890348</td>\n      <td>-1.622930351</td>\n      <td>...</td>\n      <td>-0.201634</td>\n      <td>-1.482332</td>\n      <td>-0.319618</td>\n      <td>-0.941858</td>\n      <td>-0.190299</td>\n      <td>-0.371838</td>\n      <td>-0.157044</td>\n      <td>-0.432959</td>\n      <td>-0.562670</td>\n      <td>-0.852798</td>\n    </tr>\n    <tr>\n      <th>20</th>\n      <td>0</td>\n      <td>-0.339137</td>\n      <td>-0.550901</td>\n      <td>-0.646163</td>\n      <td>-0.302173</td>\n      <td>-0.470927</td>\n      <td>-0.695103</td>\n      <td>-0.635058</td>\n      <td>-0.279768422</td>\n      <td>-0.426533138</td>\n      <td>...</td>\n      <td>-0.408168</td>\n      <td>-0.733788</td>\n      <td>-0.368489</td>\n      <td>-0.282143</td>\n      <td>0.069452</td>\n      <td>-0.551885</td>\n      <td>-0.343692</td>\n      <td>-0.719841</td>\n      <td>-0.458382</td>\n      <td>-0.420078</td>\n    </tr>\n    <tr>\n      <th>21</th>\n      <td>0</td>\n      <td>-0.529071</td>\n      <td>-0.655352</td>\n      <td>-0.448901</td>\n      <td>-0.376290</td>\n      <td>-0.086784</td>\n      <td>-0.196607</td>\n      <td>-0.046840</td>\n      <td>-0.231432408</td>\n      <td>-0.686164326</td>\n      <td>...</td>\n      <td>-0.361768</td>\n      <td>-0.195348</td>\n      <td>-0.440421</td>\n      <td>-0.644318</td>\n      <td>-0.500802</td>\n      <td>-0.244887</td>\n      <td>-0.337996</td>\n      <td>-0.399445</td>\n      <td>-0.455229</td>\n      <td>-0.528071</td>\n    </tr>\n    <tr>\n      <th>22</th>\n      <td>0</td>\n      <td>0.231075</td>\n      <td>0.161653</td>\n      <td>0.456009</td>\n      <td>0.384584</td>\n      <td>0.282790</td>\n      <td>0.181149</td>\n      <td>0.818579</td>\n      <td>-0.097610797</td>\n      <td>0.134477041</td>\n      <td>...</td>\n      <td>0.411195</td>\n      <td>0.454032</td>\n      <td>-0.224040</td>\n      <td>-0.102994</td>\n      <td>-0.093560</td>\n      <td>-0.063503</td>\n      <td>-0.011496</td>\n      <td>0.104697</td>\n      <td>0.375197</td>\n      <td>0.411195</td>\n    </tr>\n    <tr>\n      <th>23</th>\n      <td>0</td>\n      <td>0.137648</td>\n      <td>0.060397</td>\n      <td>0.689660</td>\n      <td>0.137648</td>\n      <td>0.084670</td>\n      <td>0.080088</td>\n      <td>0.200913</td>\n      <td>0.064917477</td>\n      <td>0.029146346</td>\n      <td>...</td>\n      <td>-0.067639</td>\n      <td>0.388355</td>\n      <td>0.014500</td>\n      <td>-0.220330</td>\n      <td>-0.046840</td>\n      <td>-0.086784</td>\n      <td>-0.102994</td>\n      <td>-0.066261</td>\n      <td>0.092340</td>\n      <td>-0.272620</td>\n    </tr>\n    <tr>\n      <th>24</th>\n      <td>0</td>\n      <td>0.021804</td>\n      <td>-0.147958</td>\n      <td>0.039488</td>\n      <td>-0.020058</td>\n      <td>-0.280956</td>\n      <td>-0.415759</td>\n      <td>-0.151859</td>\n      <td>-0.142740172</td>\n      <td>-0.021479727</td>\n      <td>...</td>\n      <td>-0.226509</td>\n      <td>-0.697774</td>\n      <td>-0.185232</td>\n      <td>0.117161</td>\n      <td>0.030619</td>\n      <td>0.128156</td>\n      <td>0.017417</td>\n      <td>-0.316146</td>\n      <td>-0.038436</td>\n      <td>-0.227741</td>\n    </tr>\n    <tr>\n      <th>25</th>\n      <td>0</td>\n      <td>-0.115033</td>\n      <td>-0.171207</td>\n      <td>0.020340</td>\n      <td>-0.173767</td>\n      <td>-0.210389</td>\n      <td>-0.321928</td>\n      <td>-0.134878</td>\n      <td>-0.008630305</td>\n      <td>-0.088141597</td>\n      <td>...</td>\n      <td>-0.264236</td>\n      <td>-0.374066</td>\n      <td>-0.248535</td>\n      <td>0.013043</td>\n      <td>0.001443</td>\n      <td>-0.079975</td>\n      <td>-0.073135</td>\n      <td>-0.269033</td>\n      <td>-0.181421</td>\n      <td>-0.180148</td>\n    </tr>\n    <tr>\n      <th>26</th>\n      <td>0</td>\n      <td>-0.007196</td>\n      <td>-0.014355</td>\n      <td>0.459973</td>\n      <td>0.155213</td>\n      <td>-0.035624</td>\n      <td>0.021804</td>\n      <td>0.152003</td>\n      <td>-0.045442971</td>\n      <td>-0.38294387</td>\n      <td>...</td>\n      <td>-0.078610</td>\n      <td>0.132894</td>\n      <td>0.106249</td>\n      <td>-0.111031</td>\n      <td>0.007232</td>\n      <td>0.126580</td>\n      <td>-0.032806</td>\n      <td>-0.004322</td>\n      <td>0.001443</td>\n      <td>-0.132248</td>\n    </tr>\n    <tr>\n      <th>27</th>\n      <td>0</td>\n      <td>0.015958</td>\n      <td>-0.128293</td>\n      <td>0.351074</td>\n      <td>-0.051024</td>\n      <td>-0.257011</td>\n      <td>-0.206643</td>\n      <td>-0.085425</td>\n      <td>-0.002882509</td>\n      <td>-0.411426246</td>\n      <td>...</td>\n      <td>-0.211635</td>\n      <td>-0.146655</td>\n      <td>0.155213</td>\n      <td>-0.158337</td>\n      <td>-0.328836</td>\n      <td>-0.027154</td>\n      <td>-0.051024</td>\n      <td>-0.228973</td>\n      <td>-0.145351</td>\n      <td>-0.263034</td>\n    </tr>\n    <tr>\n      <th>28</th>\n      <td>0</td>\n      <td>-0.481299</td>\n      <td>-0.347099</td>\n      <td>0.296899</td>\n      <td>-0.142740</td>\n      <td>0.081614</td>\n      <td>0.000000</td>\n      <td>-0.084064</td>\n      <td>0.045431429</td>\n      <td>-0.738119289</td>\n      <td>...</td>\n      <td>0.084670</td>\n      <td>0.450084</td>\n      <td>-0.253384</td>\n      <td>-0.751035</td>\n      <td>-0.717210</td>\n      <td>-0.358396</td>\n      <td>-0.077243</td>\n      <td>0.023270</td>\n      <td>-0.132248</td>\n      <td>-0.371838</td>\n    </tr>\n    <tr>\n      <th>29</th>\n      <td>0</td>\n      <td>-0.277390</td>\n      <td>0.142417</td>\n      <td>0.067939</td>\n      <td>0.036526</td>\n      <td>-0.164786</td>\n      <td>-0.077243</td>\n      <td>0.388355</td>\n      <td>0.304006187</td>\n      <td>-0.126972856</td>\n      <td>...</td>\n      <td>0.120294</td>\n      <td>0.158429</td>\n      <td>-0.041243</td>\n      <td>-0.249749</td>\n      <td>-0.138814</td>\n      <td>0.184425</td>\n      <td>-0.185232</td>\n      <td>-0.092207</td>\n      <td>0.229382</td>\n      <td>0.132894</td>\n    </tr>\n  </tbody>\n</table>\n<p>30 rows × 32 columns</p>\n</div>"
     },
     "execution_count": 41,
     "metadata": {},
     "output_type": "execute_result"
    }
   ],
   "source": [
    "non_target_data.iloc[:,3:]"
   ],
   "metadata": {
    "collapsed": false
   }
  },
  {
   "cell_type": "code",
   "execution_count": null,
   "outputs": [],
   "source": [
    "non_target_data_array = non_target_data.values\n",
    "reshaped_data = non_target_data_array.reshape(non_target_data_array.shape[0], 8, 4).transpose(0, 2, 1).reshape(-1, 4)\n",
    "non_target_data = pd.DataFrame(reshaped_data, columns=[\"gat1\", \"col2\", \"col3\", \"col4\"])"
   ],
   "metadata": {
    "collapsed": false
   }
  },
  {
   "cell_type": "code",
   "execution_count": 42,
   "outputs": [],
   "source": [
    "import numpy as np\n",
    "\n",
    "# 假设有 100 个基因，每个基因 8 个时间点，4 个特征\n",
    "n_genes = 100\n",
    "n_timepoints = 8\n",
    "n_features = 4\n",
    "data = np.random.rand(n_genes * n_timepoints, n_features)\n",
    "\n",
    "# 添加基因标签\n",
    "gene_labels = np.repeat(np.arange(n_genes), n_timepoints)\n",
    "stacked_data = np.hstack([data, gene_labels.reshape(-1, 1)])\n",
    "\n"
   ],
   "metadata": {
    "collapsed": false
   }
  },
  {
   "cell_type": "code",
   "execution_count": 46,
   "outputs": [
    {
     "data": {
      "text/plain": "(800, 5)"
     },
     "execution_count": 46,
     "metadata": {},
     "output_type": "execute_result"
    }
   ],
   "source": [
    "stacked_data.shape"
   ],
   "metadata": {
    "collapsed": false
   }
  },
  {
   "cell_type": "code",
   "execution_count": 49,
   "outputs": [],
   "source": [
    "data = generate_multidimensional_mackey_glass(20)"
   ],
   "metadata": {
    "collapsed": false
   }
  },
  {
   "cell_type": "code",
   "execution_count": 57,
   "outputs": [],
   "source": [
    "import numpy as np\n",
    "from tigramite.independence_tests.cmiknn import CMIknn\n",
    "from tigramite.pcmci import PCMCI\n",
    "from tigramite.independence_tests.gpdc import GPDC\n",
    "from tigramite import data_processing as pp\n",
    "from config import *\n",
    "\n",
    "\n",
    "def run_pcmci(data):\n",
    "    data_np = data.values  # Convert to ndarray\n",
    "    var_names = data.columns.tolist()\n",
    "        # Optional: Keep variable names\n",
    "\n",
    "    # Initialize Tigramite DataFrame\n",
    "    pp_data = pp.DataFrame(data_np, var_names=var_names)\n",
    "    # pp_data = pp.DataFrame(data_np)\n",
    "    # GDPC: linear or simply non-linear data; CMIknn: complicated non-linear data but expensive\n",
    "    gpdc = GPDC(significance=SIGNIFICANCE_METHOD)  # analytic or 'shuffle_test'/'bootstrap'\n",
    "    pcmci = PCMCI(dataframe=pp_data, cond_ind_test=gpdc, verbosity=PC_VERBOSITY)\n",
    "    results = pcmci.run_pcmci(tau_max=TAU_MAX, pc_alpha=PC_ALPHA, alpha_level=ALPHA_LEVEL)\n",
    "    return results\n",
    "\n"
   ],
   "metadata": {
    "collapsed": false
   }
  },
  {
   "cell_type": "code",
   "execution_count": 58,
   "outputs": [
    {
     "name": "stdout",
     "output_type": "stream",
     "text": [
      "\n",
      "##\n",
      "## Step 1: PC1 algorithm for selecting lagged conditions\n",
      "##\n",
      "\n",
      "Parameters:\n",
      "independence test = gp_dc\n",
      "tau_min = 1\n",
      "tau_max = 3\n",
      "pc_alpha = [0.05]\n",
      "max_conds_dim = None\n",
      "max_combinations = 1\n",
      "\n",
      "\n"
     ]
    },
    {
     "name": "stderr",
     "output_type": "stream",
     "text": [
      "/Users/sunyukang/opt/anaconda3/lib/python3.9/site-packages/scipy/optimize/_minpack_py.py:1010: OptimizeWarning: Covariance of the parameters could not be estimated\n",
      "  warnings.warn('Covariance of the parameters could not be estimated',\n",
      "/Users/sunyukang/opt/anaconda3/lib/python3.9/site-packages/scipy/optimize/_minpack_py.py:1010: OptimizeWarning: Covariance of the parameters could not be estimated\n",
      "  warnings.warn('Covariance of the parameters could not be estimated',\n",
      "/Users/sunyukang/opt/anaconda3/lib/python3.9/site-packages/scipy/optimize/_minpack_py.py:1010: OptimizeWarning: Covariance of the parameters could not be estimated\n",
      "  warnings.warn('Covariance of the parameters could not be estimated',\n",
      "/Users/sunyukang/opt/anaconda3/lib/python3.9/site-packages/scipy/optimize/_minpack_py.py:1010: OptimizeWarning: Covariance of the parameters could not be estimated\n",
      "  warnings.warn('Covariance of the parameters could not be estimated',\n",
      "/Users/sunyukang/opt/anaconda3/lib/python3.9/site-packages/scipy/optimize/_minpack_py.py:1010: OptimizeWarning: Covariance of the parameters could not be estimated\n",
      "  warnings.warn('Covariance of the parameters could not be estimated',\n",
      "/Users/sunyukang/opt/anaconda3/lib/python3.9/site-packages/scipy/optimize/_minpack_py.py:1010: OptimizeWarning: Covariance of the parameters could not be estimated\n",
      "  warnings.warn('Covariance of the parameters could not be estimated',\n",
      "/Users/sunyukang/opt/anaconda3/lib/python3.9/site-packages/scipy/optimize/_minpack_py.py:1010: OptimizeWarning: Covariance of the parameters could not be estimated\n",
      "  warnings.warn('Covariance of the parameters could not be estimated',\n",
      "/Users/sunyukang/opt/anaconda3/lib/python3.9/site-packages/scipy/optimize/_minpack_py.py:1010: OptimizeWarning: Covariance of the parameters could not be estimated\n",
      "  warnings.warn('Covariance of the parameters could not be estimated',\n"
     ]
    },
    {
     "name": "stdout",
     "output_type": "stream",
     "text": [
      "\n",
      "## Resulting lagged parent (super)sets:\n",
      "\n",
      "    Variable 0 has 0 link(s):\n",
      "\n",
      "    Variable 1 has 0 link(s):\n",
      "\n",
      "    Variable 2 has 0 link(s):\n",
      "\n",
      "    Variable 3 has 0 link(s):\n",
      "\n",
      "##\n",
      "## Step 2: MCI algorithm\n",
      "##\n",
      "\n",
      "Parameters:\n",
      "\n",
      "independence test = gp_dc\n",
      "tau_min = 0\n",
      "tau_max = 3\n",
      "max_conds_py = None\n",
      "max_conds_px = None\n",
      "\n",
      "## Significant links at alpha = 0.1:\n",
      "\n",
      "    Variable 0 has 6 link(s):\n",
      "        (1 -2): pval = 0.00200 | val =  0.826\n",
      "        (2  0): pval = 0.00800 | val =  0.782 | unoriented link\n",
      "        (1 -1): pval = 0.00400 | val =  0.711\n",
      "        (3 -1): pval = 0.01600 | val =  0.695\n",
      "        (3  0): pval = 0.02400 | val =  0.657 | unoriented link\n",
      "        (0 -1): pval = 0.07200 | val =  0.572\n",
      "\n",
      "    Variable 1 has 2 link(s):\n",
      "        (3  0): pval = 0.00600 | val =  0.722 | unoriented link\n",
      "        (1 -1): pval = 0.05200 | val =  0.592\n",
      "\n",
      "    Variable 2 has 5 link(s):\n",
      "        (0  0): pval = 0.00800 | val =  0.782 | unoriented link\n",
      "        (3 -1): pval = 0.05000 | val =  0.645\n",
      "        (1 -2): pval = 0.03800 | val =  0.631\n",
      "        (3  0): pval = 0.03600 | val =  0.630 | unoriented link\n",
      "        (1 -1): pval = 0.07000 | val =  0.575\n",
      "\n",
      "    Variable 3 has 7 link(s):\n",
      "        (1  0): pval = 0.00600 | val =  0.722 | unoriented link\n",
      "        (1 -2): pval = 0.02200 | val =  0.666\n",
      "        (0  0): pval = 0.02400 | val =  0.657 | unoriented link\n",
      "        (2  0): pval = 0.03600 | val =  0.630 | unoriented link\n",
      "        (1 -1): pval = 0.05000 | val =  0.607\n",
      "        (3 -1): pval = 0.07200 | val =  0.593\n",
      "        (2 -1): pval = 0.10000 | val =  0.550\n"
     ]
    }
   ],
   "source": [
    "result = run_pcmci(pd.DataFrame(data))"
   ],
   "metadata": {
    "collapsed": false
   }
  },
  {
   "cell_type": "code",
   "execution_count": 62,
   "outputs": [
    {
     "data": {
      "text/plain": "(4, 4, 4)"
     },
     "execution_count": 62,
     "metadata": {},
     "output_type": "execute_result"
    }
   ],
   "source": [
    "result['val_matrix'].shape"
   ],
   "metadata": {
    "collapsed": false
   }
  },
  {
   "cell_type": "code",
   "execution_count": 64,
   "outputs": [
    {
     "data": {
      "text/plain": "['a', 'b', 'c', 'd']"
     },
     "execution_count": 64,
     "metadata": {},
     "output_type": "execute_result"
    }
   ],
   "source": [
    "pd.DataFrame(data, columns=['a','b','c','d']).columns.tolist()"
   ],
   "metadata": {
    "collapsed": false
   }
  },
  {
   "cell_type": "code",
   "execution_count": null,
   "outputs": [],
   "source": [],
   "metadata": {
    "collapsed": false
   }
  }
 ],
 "metadata": {
  "kernelspec": {
   "display_name": "Python 3",
   "language": "python",
   "name": "python3"
  },
  "language_info": {
   "codemirror_mode": {
    "name": "ipython",
    "version": 2
   },
   "file_extension": ".py",
   "mimetype": "text/x-python",
   "name": "python",
   "nbconvert_exporter": "python",
   "pygments_lexer": "ipython2",
   "version": "2.7.6"
  }
 },
 "nbformat": 4,
 "nbformat_minor": 0
}
